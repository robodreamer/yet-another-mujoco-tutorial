{
 "cells": [
  {
   "cell_type": "markdown",
   "id": "65421707",
   "metadata": {},
   "source": [
    "### Contact detection"
   ]
  },
  {
   "cell_type": "code",
   "execution_count": 1,
   "id": "52aa19a2",
   "metadata": {},
   "outputs": [
    {
     "name": "stdout",
     "output_type": "stream",
     "text": [
      "MuJoCo version:[2.3.2]\n"
     ]
    }
   ],
   "source": [
    "import mujoco\n",
    "import numpy as np\n",
    "import matplotlib.pyplot as plt\n",
    "from mujoco_parser import MuJoCoParserClass\n",
    "from util import rpy2r\n",
    "from scipy.spatial.distance import cdist\n",
    "np.set_printoptions(precision=2,suppress=True,linewidth=100)\n",
    "%config InlineBackend.figure_format = 'retina'\n",
    "%matplotlib inline\n",
    "print (\"MuJoCo version:[%s]\"%(mujoco.__version__))"
   ]
  },
  {
   "cell_type": "markdown",
   "id": "8664d4b3",
   "metadata": {},
   "source": [
    "### Parse `Panda` with objects"
   ]
  },
  {
   "cell_type": "code",
   "execution_count": 2,
   "id": "54c98677",
   "metadata": {},
   "outputs": [
    {
     "name": "stdout",
     "output_type": "stream",
     "text": [
      "[Panda] parsed.\n"
     ]
    }
   ],
   "source": [
    "xml_path = '../model/panda/franka_panda_w_objs.xml'\n",
    "env = MuJoCoParserClass(name='Panda',rel_xml_path=xml_path,VERBOSE=False)\n",
    "print (\"[Panda] parsed.\")"
   ]
  },
  {
   "cell_type": "code",
   "execution_count": 3,
   "id": "5548b2d4",
   "metadata": {},
   "outputs": [
    {
     "name": "stdout",
     "output_type": "stream",
     "text": [
      "Done.\n"
     ]
    }
   ],
   "source": [
    "obj_names = env.get_body_names(prefix='obj_')\n",
    "n_obj = len(obj_names)\n",
    "colors = np.array([plt.cm.gist_rainbow(x) for x in np.linspace(0,1,n_obj)])\n",
    "colors[:,3] = 1.0\n",
    "for obj_idx,obj_name in enumerate(obj_names):\n",
    "    obj_pos = [-1.0,0.1*obj_idx,0.01]\n",
    "    obj_quat = [0,0,0,1]\n",
    "    env.model.body(obj_name).ipos = obj_pos\n",
    "    env.model.body(obj_name).iquat = obj_quat\n",
    "    env.model.geom(obj_name).rgba = colors[obj_idx] # color\n",
    "# Change table color\n",
    "table_color = [0.65,0.64,0.68]\n",
    "env.model.geom('panda_pedestal').rgba[:3] = table_color\n",
    "env.model.geom('work_space').rgba[:3] = table_color\n",
    "# Add transparency to geoms\n",
    "for geom_name in env.geom_names:\n",
    "    if geom_name == 'ground': continue\n",
    "    env.model.geom(geom_name).rgba[3] = 0.8\n",
    "env.forward()\n",
    "print (\"Done.\")"
   ]
  },
  {
   "cell_type": "code",
   "execution_count": 4,
   "id": "711c3d85",
   "metadata": {},
   "outputs": [
    {
     "name": "stdout",
     "output_type": "stream",
     "text": [
      "Done.\n"
     ]
    }
   ],
   "source": [
    "# Place objects on the table\n",
    "n_place = 5\n",
    "obj2place_names = [obj_names[o_idx] for o_idx in np.random.permutation(n_obj)[:n_place].astype(int)]\n",
    "\n",
    "x_range = [0.3,1.0]\n",
    "y_range = [-0.5,0.5]\n",
    "z_range = [1.01,1.01]\n",
    "min_dist_btw_obj = 0.15 # minimum distance between objects\n",
    "obj2place_poses  = np.zeros((n_place,3))\n",
    "for o_idx in range(n_place):\n",
    "    loop_cnt = 0\n",
    "    while True:\n",
    "        loop_cnt = loop_cnt + 1\n",
    "        x = np.random.uniform(low=x_range[0],high=x_range[1])\n",
    "        y = np.random.uniform(low=y_range[0],high=y_range[1])\n",
    "        z = np.random.uniform(low=z_range[0],high=z_range[1])\n",
    "        xyz = np.array([x,y,z])\n",
    "        if o_idx >= 1:\n",
    "            devc = cdist(xyz.reshape((-1,3)),obj2place_poses[:o_idx,:].reshape((-1,3)),'euclidean')\n",
    "            if devc.min() > min_dist_btw_obj: break # minimum distance between objects\n",
    "        else:\n",
    "            break\n",
    "    obj2place_poses[o_idx,:] = xyz\n",
    "for obj_idx,obj_name in enumerate(obj2place_names):\n",
    "    env.model.body(obj_name).ipos = obj2place_poses[obj_idx]\n",
    "print (\"Done.\")"
   ]
  },
  {
   "cell_type": "code",
   "execution_count": 5,
   "id": "eef8ea6f",
   "metadata": {},
   "outputs": [
    {
     "name": "stdout",
     "output_type": "stream",
     "text": [
      "tick:[1/10000]\n",
      "Pressed ESC\n",
      "Quitting.\n",
      "Done.\n"
     ]
    }
   ],
   "source": [
    "env.init_viewer(viewer_title='Spawn Objects',viewer_width=1200,viewer_height=800,viewer_hide_menus=True)\n",
    "env.update_viewer(azimuth=80,distance=2.5,elevation=-30,lookat=[0,0,1.5])\n",
    "env.update_viewer(VIS_TRANSPARENT=True) # transparent\n",
    "env.update_viewer(VIS_CONTACTPOINT=True,contactwidth=0.05,contactheight=0.05,contactrgba=np.array([1,0,0,1]))\n",
    "env.reset() # reset\n",
    "# Loop\n",
    "max_tick = 10000\n",
    "while (env.tick < max_tick) and env.is_viewer_alive():\n",
    "    # Step\n",
    "    env.data.ctrl[7:] = [1.0,-1.0] # open gripper\n",
    "    env.step(nstep=5)\n",
    "    # Get contact information\n",
    "    p_contacts,f_contacts,geom1s,geom2s = env.get_contact_info()\n",
    "    # Render contact informations\n",
    "    for (p_contact,f_contact,geom1,geom2) in zip(p_contacts,f_contacts,geom1s,geom2s):\n",
    "        f_norm = np.linalg.norm(f_contact)\n",
    "        f_uv = f_contact / (f_norm+1e-8)\n",
    "        f_len = 0.3 # f_norm*0.05\n",
    "        env.plot_arrow(p=p_contact,uv=f_uv,r_stem=0.01,len_arrow=f_len,rgba=[1,0,0,1],label='')\n",
    "        env.plot_arrow(p=p_contact,uv=-f_uv,r_stem=0.01,len_arrow=f_len,rgba=[1,0,0,1],label='')\n",
    "        label = '[%s]-[%s]'%(geom1,geom2)\n",
    "        env.plot_sphere(p=p_contact,r=0.0001,label=label)\n",
    "    env.plot_T(p=[0,0,0],R=np.eye(3,3),PLOT_AXIS=True,axis_len=1.0,axis_width=0.01)\n",
    "    env.render()\n",
    "    # Print and save image \n",
    "    if (env.tick)%(max_tick//10)==0 or (env.tick==1):\n",
    "        print (\"tick:[%d/%d]\"%(env.tick,max_tick))\n",
    "# Close viewer\n",
    "env.close_viewer()\n",
    "print (\"Done.\")"
   ]
  },
  {
   "cell_type": "code",
   "execution_count": null,
   "id": "d300d960",
   "metadata": {},
   "outputs": [],
   "source": []
  }
 ],
 "metadata": {
  "kernelspec": {
   "display_name": "Python 3 (ipykernel)",
   "language": "python",
   "name": "python3"
  },
  "language_info": {
   "codemirror_mode": {
    "name": "ipython",
    "version": 3
   },
   "file_extension": ".py",
   "mimetype": "text/x-python",
   "name": "python",
   "nbconvert_exporter": "python",
   "pygments_lexer": "ipython3",
   "version": "3.9.16"
  }
 },
 "nbformat": 4,
 "nbformat_minor": 5
}
