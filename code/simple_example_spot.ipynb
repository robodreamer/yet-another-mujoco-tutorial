{
 "cells": [
  {
   "cell_type": "code",
   "execution_count": 65,
   "id": "5715b3a3-ac0b-4d8b-8208-ae1614c16f88",
   "metadata": {
    "tags": []
   },
   "outputs": [
    {
     "name": "stdout",
     "output_type": "stream",
     "text": [
      "MuJoCo version:[2.3.2]\n",
      "n_body:[52]\n",
      "geom_names:['floor', None, None, None, None, None, None, None, None, None, None, None, None, None, None, None, None, None, None, None, None, None, None, None, None, None, None, None, None, None, None, None, None, None, None, None, None, None, None, None, None, None, None, None, None, None, None, None, None, None, None, None]\n",
      "n_body:[21]\n",
      "body_names:['world', 'base', 'fl.hip', 'fl.uleg', 'fl.lleg', 'fr.hip', 'fr.uleg', 'fr.lleg', 'hl.hip', 'hl.uleg', 'hl.lleg', 'hr.hip', 'hr.uleg', 'hr.lleg', 'arm0.link_sh0', 'arm0.link_sh1', 'arm0.link_el0', 'arm0.link_el1', 'arm0.link_wr0', 'arm0.link_wr1', 'arm0.link_fngr']\n",
      "n_joint:[20]\n",
      "joint_names:['world_joint', 'fl.hx', 'fl.hy', 'fl.kn', 'fr.hx', 'fr.hy', 'fr.kn', 'hl.hx', 'hl.hy', 'hl.kn', 'hr.hx', 'hr.hy', 'hr.kn', 'arm0.sh0', 'arm0.sh1', 'arm0.el0', 'arm0.el1', 'arm0.wr0', 'arm0.wr1', 'arm0.f1x']\n",
      "joint_types:[0 3 3 3 3 3 3 3 3 3 3 3 3 3 3 3 3 3 3 3]\n",
      "joint_ranges:\n",
      "[[ 0.    0.  ]\n",
      " [-0.79  0.79]\n",
      " [-0.9   2.3 ]\n",
      " [-2.79 -0.25]\n",
      " [-0.79  0.79]\n",
      " [-0.9   2.3 ]\n",
      " [-2.79 -0.25]\n",
      " [-0.79  0.79]\n",
      " [-0.9   2.3 ]\n",
      " [-2.79 -0.25]\n",
      " [-0.79  0.79]\n",
      " [-0.9   2.3 ]\n",
      " [-2.79 -0.25]\n",
      " [-2.62  3.14]\n",
      " [-3.14  0.52]\n",
      " [ 0.    3.14]\n",
      " [-2.79  2.79]\n",
      " [-1.83  1.83]\n",
      " [-2.88  2.88]\n",
      " [-1.57  0.  ]]\n",
      "n_rev_joint:[19]\n",
      "rev_joint_idxs:[ 1  2  3  4  5  6  7  8  9 10 11 12 13 14 15 16 17 18 19]\n",
      "rev_joint_names:['fl.hx', 'fl.hy', 'fl.kn', 'fr.hx', 'fr.hy', 'fr.kn', 'hl.hx', 'hl.hy', 'hl.kn', 'hr.hx', 'hr.hy', 'hr.kn', 'arm0.sh0', 'arm0.sh1', 'arm0.el0', 'arm0.el1', 'arm0.wr0', 'arm0.wr1', 'arm0.f1x']\n",
      "rev_joint_mins:[-0.79 -0.9  -2.79 -0.79 -0.9  -2.79 -0.79 -0.9  -2.79 -0.79 -0.9  -2.79 -2.62 -3.14  0.   -2.79\n",
      " -1.83 -2.88 -1.57]\n",
      "rev_joint_maxs:[ 0.79  2.3  -0.25  0.79  2.3  -0.25  0.79  2.3  -0.25  0.79  2.3  -0.25  3.14  0.52  3.14  2.79\n",
      "  1.83  2.88  0.  ]\n",
      "rev_joint_ranges:[1.57 3.19 2.55 1.57 3.19 2.55 1.57 3.19 2.55 1.57 3.19 2.55 5.76 3.67 3.14 5.59 3.67 5.76 1.57]\n",
      "n_pri_joint:[0]\n",
      "pri_joint_idxs:[]\n",
      "pri_joint_names:[]\n",
      "pri_joint_mins:[]\n",
      "pri_joint_maxs:[]\n",
      "pri_joint_ranges:[]\n",
      "n_ctrl:[0]\n",
      "ctrl_names:[]\n",
      "ctrl_joint_idxs:[]\n",
      "ctrl_ranges:\n",
      "[]\n",
      "[Spot] parsed.\n"
     ]
    }
   ],
   "source": [
    "# import all the dependencies\n",
    "import os, glfw\n",
    "import numpy as np\n",
    "import mujoco\n",
    "import mujoco_viewer\n",
    "from mujoco_parser import *\n",
    "import time\n",
    "\n",
    "# set numpy print options\n",
    "np.set_printoptions(precision=2, suppress=True, linewidth=100)\n",
    "\n",
    "# print MuJoCo version\n",
    "print(\"MuJoCo version:[%s]\" % (mujoco.__version__))\n",
    "\n",
    "# parse robot URDF model\n",
    "xml_path = (\n",
    "    \"/home/apark/Projects/python-repos/yet-another-mujoco-tutorial/model/spot-MJCF/scene.xml\"\n",
    ")\n",
    "env = MuJoCoParserClass(name=\"Spot\", rel_xml_path=xml_path, VERBOSE=True)\n",
    "model = mujoco.MjModel.from_xml_path(xml_path)\n",
    "print(\"[Spot] parsed.\")"
   ]
  },
  {
   "cell_type": "code",
   "execution_count": 67,
   "id": "b9cbd177-1b75-4ed7-b125-33b0d744e66b",
   "metadata": {
    "tags": []
   },
   "outputs": [
    {
     "name": "stdout",
     "output_type": "stream",
     "text": [
      "Done.\n"
     ]
    }
   ],
   "source": [
    "# initialize viewer\n",
    "env.init_viewer(\n",
    "    viewer_title=\"Spot Visualization\",\n",
    "    viewer_width=1200,\n",
    "    viewer_height=800,\n",
    "    viewer_hide_menus=True,\n",
    ")\n",
    "env.update_viewer(azimuth=180, distance=3.84, elevation=-8.32, lookat=[0.02, 0.05, 0.7])\n",
    "env.reset()  # reset\n",
    "\n",
    "# Loop for visualization\n",
    "max_tick = 10000\n",
    "while (env.tick < max_tick) and env.is_viewer_alive():\n",
    "    env.step()\n",
    "    env.render()\n",
    "    \n",
    "# Close viewer\n",
    "env.close_viewer()\n",
    "print (\"Done.\")\n"
   ]
  },
  {
   "cell_type": "code",
   "execution_count": null,
   "id": "fb3a4065-abec-4dfb-ac1d-d1dc3a014789",
   "metadata": {},
   "outputs": [],
   "source": []
  }
 ],
 "metadata": {
  "kernelspec": {
   "display_name": "Python 3 (ipykernel)",
   "language": "python",
   "name": "python3"
  },
  "language_info": {
   "codemirror_mode": {
    "name": "ipython",
    "version": 3
   },
   "file_extension": ".py",
   "mimetype": "text/x-python",
   "name": "python",
   "nbconvert_exporter": "python",
   "pygments_lexer": "ipython3",
   "version": "3.10.6"
  }
 },
 "nbformat": 4,
 "nbformat_minor": 5
}
