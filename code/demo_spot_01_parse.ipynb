{
 "cells": [
  {
   "cell_type": "markdown",
   "id": "df141410",
   "metadata": {},
   "source": [
    "### Parse `Spot`"
   ]
  },
  {
   "cell_type": "code",
   "execution_count": 3,
   "id": "837fa147",
   "metadata": {},
   "outputs": [
    {
     "name": "stdout",
     "output_type": "stream",
     "text": [
      "MuJoCo version:[2.3.2]\n"
     ]
    }
   ],
   "source": [
    "import mujoco\n",
    "import numpy as np\n",
    "import matplotlib.pyplot as plt\n",
    "from mujoco_parser import MuJoCoParserClass\n",
    "np.set_printoptions(precision=2,suppress=True,linewidth=100)\n",
    "plt.rc('xtick',labelsize=6); plt.rc('ytick',labelsize=6)\n",
    "%config InlineBackend.figure_format = 'retina'\n",
    "%matplotlib inline\n",
    "print (\"MuJoCo version:[%s]\"%(mujoco.__version__))"
   ]
  },
  {
   "cell_type": "markdown",
   "id": "793cae31",
   "metadata": {},
   "source": [
    "### Parse"
   ]
  },
  {
   "cell_type": "code",
   "execution_count": 4,
   "id": "7e288fa4",
   "metadata": {
    "scrolled": true
   },
   "outputs": [
    {
     "name": "stdout",
     "output_type": "stream",
     "text": [
      "n_body:[22]\n",
      "geom_names:['floor', None, None, None, None, None, None, None, None, None, None, None, None, None, None, None, None, None, None, None, None, None]\n",
      "n_body:[21]\n",
      "body_names:['world', 'base', 'fl.hip', 'fl.uleg', 'fl.lleg', 'fr.hip', 'fr.uleg', 'fr.lleg', 'hl.hip', 'hl.uleg', 'hl.lleg', 'hr.hip', 'hr.uleg', 'hr.lleg', 'arm0.link_sh0', 'arm0.link_sh1', 'arm0.link_el0', 'arm0.link_el1', 'arm0.link_wr0', 'arm0.link_wr1', 'arm0.link_fngr']\n",
      "n_joint:[20]\n",
      "joint_names:['world_joint', 'fl.hx', 'fl.hy', 'fl.kn', 'fr.hx', 'fr.hy', 'fr.kn', 'hl.hx', 'hl.hy', 'hl.kn', 'hr.hx', 'hr.hy', 'hr.kn', 'arm0.sh0', 'arm0.sh1', 'arm0.el0', 'arm0.el1', 'arm0.wr0', 'arm0.wr1', 'arm0.f1x']\n",
      "joint_types:[0 3 3 3 3 3 3 3 3 3 3 3 3 3 3 3 3 3 3 3]\n",
      "joint_ranges:\n",
      "[[ 0.    0.  ]\n",
      " [-0.79  0.79]\n",
      " [-0.9   2.3 ]\n",
      " [-2.79 -0.25]\n",
      " [-0.79  0.79]\n",
      " [-0.9   2.3 ]\n",
      " [-2.79 -0.25]\n",
      " [-0.79  0.79]\n",
      " [-0.9   2.3 ]\n",
      " [-2.79 -0.25]\n",
      " [-0.79  0.79]\n",
      " [-0.9   2.3 ]\n",
      " [-2.79 -0.25]\n",
      " [-2.62  3.14]\n",
      " [-3.14  0.52]\n",
      " [ 0.    3.14]\n",
      " [-2.79  2.79]\n",
      " [-1.83  1.83]\n",
      " [-2.88  2.88]\n",
      " [-1.57  0.  ]]\n",
      "n_rev_joint:[19]\n",
      "rev_joint_idxs:[ 1  2  3  4  5  6  7  8  9 10 11 12 13 14 15 16 17 18 19]\n",
      "rev_joint_names:['fl.hx', 'fl.hy', 'fl.kn', 'fr.hx', 'fr.hy', 'fr.kn', 'hl.hx', 'hl.hy', 'hl.kn', 'hr.hx', 'hr.hy', 'hr.kn', 'arm0.sh0', 'arm0.sh1', 'arm0.el0', 'arm0.el1', 'arm0.wr0', 'arm0.wr1', 'arm0.f1x']\n",
      "rev_joint_mins:[-0.79 -0.9  -2.79 -0.79 -0.9  -2.79 -0.79 -0.9  -2.79 -0.79 -0.9  -2.79 -2.62 -3.14  0.   -2.79\n",
      " -1.83 -2.88 -1.57]\n",
      "rev_joint_maxs:[ 0.79  2.3  -0.25  0.79  2.3  -0.25  0.79  2.3  -0.25  0.79  2.3  -0.25  3.14  0.52  3.14  2.79\n",
      "  1.83  2.88  0.  ]\n",
      "rev_joint_ranges:[1.57 3.19 2.55 1.57 3.19 2.55 1.57 3.19 2.55 1.57 3.19 2.55 5.76 3.67 3.14 5.59 3.67 5.76 1.57]\n",
      "n_pri_joint:[0]\n",
      "pri_joint_idxs:[]\n",
      "pri_joint_names:[]\n",
      "pri_joint_mins:[]\n",
      "pri_joint_maxs:[]\n",
      "pri_joint_ranges:[]\n",
      "n_ctrl:[19]\n",
      "ctrl_names:['FR_hip', 'FR_thigh', 'FR_calf', 'FL_hip', 'FL_thigh', 'FL_calf', 'RR_hip', 'RR_thigh', 'RR_calf', 'RL_hip', 'RL_thigh', 'RL_calf', 'arm_shoulder_1', 'arm_shoulder_2', 'arm_elbow_1', 'arm_elbow_2', 'arm_wrist_1', 'arm_wrist_2', 'arm_finger']\n",
      "ctrl_joint_idxs:[10, 11, 12, 7, 8, 9, 16, 17, 18, 13, 14, 15, 19, 20, 21, 22, 23, 24, 25]\n",
      "ctrl_ranges:\n",
      "[[-0.8   0.8 ]\n",
      " [-1.05  4.19]\n",
      " [-2.7  -0.92]\n",
      " [-0.8   0.8 ]\n",
      " [-1.05  4.19]\n",
      " [-2.7  -0.92]\n",
      " [-0.8   0.8 ]\n",
      " [-1.05  4.19]\n",
      " [-2.7  -0.92]\n",
      " [-0.8   0.8 ]\n",
      " [-1.05  4.19]\n",
      " [-2.7  -0.92]\n",
      " [-2.    2.  ]\n",
      " [-2.    2.  ]\n",
      " [-2.    2.  ]\n",
      " [-1.    1.  ]\n",
      " [-1.    1.  ]\n",
      " [-1.    1.  ]\n",
      " [-1.    1.  ]]\n",
      "[Spot] parsed.\n"
     ]
    }
   ],
   "source": [
    "xml_path = '../model/spot/spot_wholebody.xml'\n",
    "env = MuJoCoParserClass(name='Spot',rel_xml_path=xml_path,VERBOSE=True)\n",
    "print (\"[%s] parsed.\"%(env.name))"
   ]
  },
  {
   "cell_type": "markdown",
   "id": "b9ca775e",
   "metadata": {},
   "source": [
    "### Render"
   ]
  },
  {
   "cell_type": "code",
   "execution_count": 5,
   "id": "165076b1",
   "metadata": {},
   "outputs": [
    {
     "name": "stdout",
     "output_type": "stream",
     "text": [
      "Done.\n"
     ]
    }
   ],
   "source": [
    "env.init_viewer(viewer_title='Spot',viewer_width=1200,viewer_height=800,\n",
    "                viewer_hide_menus=True)\n",
    "env.update_viewer(azimuth=78,distance=5.0,elevation=-36,lookat=[0.02,  0.16, -0.37],\n",
    "                  VIS_TRANSPARENT=True,VIS_CONTACTPOINT=True,\n",
    "                  contactwidth=0.05,contactheight=0.05,contactrgba=np.array([1,0,0,1]),\n",
    "                  VIS_JOINT=True,jointlength=0.5,jointwidth=0.1,jointrgba=[0.2,0.6,0.8,0.6])\n",
    "env.reset()\n",
    "max_tick = 10000\n",
    "for tick in range(max_tick):\n",
    "    env.step()\n",
    "    env.render(render_every=5)\n",
    "    if not env.is_viewer_alive():\n",
    "        break\n",
    "env.close_viewer()    \n",
    "print (\"Done.\")"
   ]
  },
  {
   "cell_type": "code",
   "execution_count": null,
   "id": "157a5f39",
   "metadata": {},
   "outputs": [],
   "source": []
  }
 ],
 "metadata": {
  "kernelspec": {
   "display_name": "Python 3 (ipykernel)",
   "language": "python",
   "name": "python3"
  },
  "language_info": {
   "codemirror_mode": {
    "name": "ipython",
    "version": 3
   },
   "file_extension": ".py",
   "mimetype": "text/x-python",
   "name": "python",
   "nbconvert_exporter": "python",
   "pygments_lexer": "ipython3",
   "version": "3.9.16"
  }
 },
 "nbformat": 4,
 "nbformat_minor": 5
}
