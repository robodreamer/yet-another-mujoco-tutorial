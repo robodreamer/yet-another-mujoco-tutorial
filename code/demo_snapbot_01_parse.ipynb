{
 "cells": [
  {
   "cell_type": "markdown",
   "id": "cd0c02e3",
   "metadata": {},
   "source": [
    "### Parse `Snapbot`"
   ]
  },
  {
   "cell_type": "code",
   "execution_count": 1,
   "id": "fa3dc8d4",
   "metadata": {},
   "outputs": [
    {
     "name": "stdout",
     "output_type": "stream",
     "text": [
      "MuJoCo version:[2.3.2]\n"
     ]
    }
   ],
   "source": [
    "import mujoco\n",
    "import numpy as np\n",
    "import matplotlib.pyplot as plt\n",
    "from mujoco_parser import MuJoCoParserClass\n",
    "np.set_printoptions(precision=2,suppress=True,linewidth=100)\n",
    "plt.rc('xtick',labelsize=6); plt.rc('ytick',labelsize=6)\n",
    "%config InlineBackend.figure_format = 'retina'\n",
    "%matplotlib inline\n",
    "print (\"MuJoCo version:[%s]\"%(mujoco.__version__))"
   ]
  },
  {
   "cell_type": "markdown",
   "id": "abf2eebf",
   "metadata": {},
   "source": [
    "### Parse `Snapbot`"
   ]
  },
  {
   "cell_type": "code",
   "execution_count": 2,
   "id": "8087ba8c",
   "metadata": {
    "scrolled": true
   },
   "outputs": [
    {
     "name": "stdout",
     "output_type": "stream",
     "text": [
      "n_body:[24]\n",
      "geom_names:['floor', 'body', 'camera_module_1', 'camera_module_2', 'leg_module_1_1', 'leg_module_1_2', 'leg_module_1_3', 'leg_module_1_4', 'leg_module_1_4bar', 'leg_module_2_1', 'leg_module_2_2', 'leg_module_2_3', 'leg_module_2_4', 'leg_module_2_4bar', 'leg_module_4_1', 'leg_module_4_2', 'leg_module_4_3', 'leg_module_4_4', 'leg_module_4_4bar', 'leg_module_5_1', 'leg_module_5_2', 'leg_module_5_3', 'leg_module_5_4', 'leg_module_5_4bar']\n",
      "n_body:[24]\n",
      "body_names:['world', 'torso', 'Camera_module_1', 'Camera_module_2', 'Leg_module_1_1', 'Leg_module_1_2', 'Leg_module_1_3', 'Leg_module_1_4', 'Leg_module_1_4bar', 'Leg_module_2_1', 'Leg_module_2_2', 'Leg_module_2_3', 'Leg_module_2_4', 'Leg_module_2_4bar', 'Leg_module_4_1', 'Leg_module_4_2', 'Leg_module_4_3', 'Leg_module_4_4', 'Leg_module_4_4bar', 'Leg_module_5_1', 'Leg_module_5_2', 'Leg_module_5_3', 'Leg_module_5_4', 'Leg_module_5_4bar']\n",
      "n_joint:[19]\n",
      "joint_names:['free', 'camera_1', 'camera_2', 'leg_1_2', 'leg_1_3', 'leg_1_4', 'leg_1_4bar', 'leg_2_2', 'leg_2_3', 'leg_2_4', 'leg_2_4bar', 'leg_4_2', 'leg_4_3', 'leg_4_4', 'leg_4_4bar', 'leg_5_2', 'leg_5_3', 'leg_5_4', 'leg_5_4bar']\n",
      "joint_types:[0 3 3 3 3 3 3 3 3 3 3 3 3 3 3 3 3 3 3]\n",
      "joint_ranges:\n",
      "[[ 0.    0.  ]\n",
      " [ 0.    0.  ]\n",
      " [-3.14  0.  ]\n",
      " [-0.75  0.75]\n",
      " [-0.7   0.7 ]\n",
      " [ 0.    0.  ]\n",
      " [ 0.    0.  ]\n",
      " [-0.75  0.75]\n",
      " [-0.7   0.7 ]\n",
      " [ 0.    0.  ]\n",
      " [ 0.    0.  ]\n",
      " [-0.75  0.75]\n",
      " [-0.7   0.7 ]\n",
      " [ 0.    0.  ]\n",
      " [ 0.    0.  ]\n",
      " [-0.75  0.75]\n",
      " [-0.7   0.7 ]\n",
      " [ 0.    0.  ]\n",
      " [ 0.    0.  ]]\n",
      "n_rev_joint:[18]\n",
      "rev_joint_idxs:[ 1  2  3  4  5  6  7  8  9 10 11 12 13 14 15 16 17 18]\n",
      "rev_joint_names:['camera_1', 'camera_2', 'leg_1_2', 'leg_1_3', 'leg_1_4', 'leg_1_4bar', 'leg_2_2', 'leg_2_3', 'leg_2_4', 'leg_2_4bar', 'leg_4_2', 'leg_4_3', 'leg_4_4', 'leg_4_4bar', 'leg_5_2', 'leg_5_3', 'leg_5_4', 'leg_5_4bar']\n",
      "rev_joint_mins:[ 0.   -3.14 -0.75 -0.7   0.    0.   -0.75 -0.7   0.    0.   -0.75 -0.7   0.    0.   -0.75 -0.7\n",
      "  0.    0.  ]\n",
      "rev_joint_maxs:[0.   0.   0.75 0.7  0.   0.   0.75 0.7  0.   0.   0.75 0.7  0.   0.   0.75 0.7  0.   0.  ]\n",
      "rev_joint_ranges:[0.   3.14 1.5  1.4  0.   0.   1.5  1.4  0.   0.   1.5  1.4  0.   0.   1.5  1.4  0.   0.  ]\n",
      "n_pri_joint:[0]\n",
      "pri_joint_idxs:[]\n",
      "pri_joint_names:[]\n",
      "pri_joint_mins:[]\n",
      "pri_joint_maxs:[]\n",
      "pri_joint_ranges:[]\n",
      "n_ctrl:[8]\n",
      "ctrl_names:['actuator3', 'actuator4', 'actuator5', 'actuator6', 'actuator9', 'actuator10', 'actuator11', 'actuator12']\n",
      "ctrl_joint_idxs:[9, 10, 13, 14, 17, 18, 21, 22]\n",
      "ctrl_ranges:\n",
      "[[-2.7  2.7]\n",
      " [-2.7  2.7]\n",
      " [-2.7  2.7]\n",
      " [-2.7  2.7]\n",
      " [-2.7  2.7]\n",
      " [-2.7  2.7]\n",
      " [-2.7  2.7]\n",
      " [-2.7  2.7]]\n",
      "[Snapbot] parsed.\n"
     ]
    }
   ],
   "source": [
    "xml_path = '../model/snapbot/robot_4_1245.xml'\n",
    "env = MuJoCoParserClass(name='Snapbot',rel_xml_path=xml_path,VERBOSE=True)\n",
    "print (\"[%s] parsed.\"%(env.name))"
   ]
  },
  {
   "cell_type": "markdown",
   "id": "8a60ec3c",
   "metadata": {},
   "source": [
    "### Render"
   ]
  },
  {
   "cell_type": "code",
   "execution_count": 3,
   "id": "42b818d6",
   "metadata": {},
   "outputs": [
    {
     "name": "stdout",
     "output_type": "stream",
     "text": [
      "Pressed ESC\n",
      "Quitting.\n",
      "Done.\n"
     ]
    }
   ],
   "source": [
    "env.init_viewer(viewer_title='Snapbot',viewer_width=1200,viewer_height=800,\n",
    "                viewer_hide_menus=True)\n",
    "env.update_viewer(azimuth=78,distance=2.0,elevation=-36,lookat=[0.02,  0.16, -0.37],\n",
    "                  VIS_TRANSPARENT=True,VIS_CONTACTPOINT=True,\n",
    "                  contactwidth=0.15,contactheight=0.15,contactrgba=np.array([1,0,0,1]),\n",
    "                  VIS_JOINT=True,jointlength=0.5,jointwidth=0.1,jointrgba=[0.2,0.6,0.8,0.6])\n",
    "env.reset()\n",
    "max_tick = 10000\n",
    "for tick in range(max_tick):\n",
    "    env.step()\n",
    "    env.render(render_every=5)\n",
    "    if not env.is_viewer_alive():\n",
    "        break\n",
    "env.close_viewer()    \n",
    "print (\"Done.\")"
   ]
  },
  {
   "cell_type": "code",
   "execution_count": null,
   "id": "b8fa87ea",
   "metadata": {},
   "outputs": [],
   "source": []
  }
 ],
 "metadata": {
  "kernelspec": {
   "display_name": "Python 3 (ipykernel)",
   "language": "python",
   "name": "python3"
  },
  "language_info": {
   "codemirror_mode": {
    "name": "ipython",
    "version": 3
   },
   "file_extension": ".py",
   "mimetype": "text/x-python",
   "name": "python",
   "nbconvert_exporter": "python",
   "pygments_lexer": "ipython3",
   "version": "3.9.16"
  }
 },
 "nbformat": 4,
 "nbformat_minor": 5
}
