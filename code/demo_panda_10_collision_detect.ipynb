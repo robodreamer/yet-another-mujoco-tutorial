{
 "cells": [
  {
   "cell_type": "markdown",
   "id": "b37539e8",
   "metadata": {},
   "source": [
    "### Collision detection"
   ]
  },
  {
   "cell_type": "code",
   "execution_count": 1,
   "id": "d93c272a",
   "metadata": {},
   "outputs": [
    {
     "name": "stdout",
     "output_type": "stream",
     "text": [
      "MuJoCo version:[2.3.2]\n"
     ]
    }
   ],
   "source": [
    "import mujoco\n",
    "import numpy as np\n",
    "import matplotlib.pyplot as plt\n",
    "from mujoco_parser import MuJoCoParserClass\n",
    "from util import rpy2r,r2rpy\n",
    "from scipy.spatial.distance import cdist\n",
    "np.set_printoptions(precision=2,suppress=True,linewidth=100)\n",
    "%config InlineBackend.figure_format = 'retina'\n",
    "%matplotlib inline\n",
    "print (\"MuJoCo version:[%s]\"%(mujoco.__version__))"
   ]
  },
  {
   "cell_type": "markdown",
   "id": "e0dee299",
   "metadata": {},
   "source": [
    "### Parse `Panda` with objects"
   ]
  },
  {
   "cell_type": "code",
   "execution_count": 2,
   "id": "d28bae09",
   "metadata": {},
   "outputs": [
    {
     "ename": "ValueError",
     "evalue": "XML Error: problem reading attribute 'fromto'\nElement 'geom', line 0\n",
     "output_type": "error",
     "traceback": [
      "\u001b[0;31m---------------------------------------------------------------------------\u001b[0m",
      "\u001b[0;31mValueError\u001b[0m                                Traceback (most recent call last)",
      "Cell \u001b[0;32mIn[2], line 2\u001b[0m\n\u001b[1;32m      1\u001b[0m xml_path \u001b[38;5;241m=\u001b[39m \u001b[38;5;124m'\u001b[39m\u001b[38;5;124m../model/panda/franka_panda_w_objs.xml\u001b[39m\u001b[38;5;124m'\u001b[39m\n\u001b[0;32m----> 2\u001b[0m env \u001b[38;5;241m=\u001b[39m \u001b[43mMuJoCoParserClass\u001b[49m\u001b[43m(\u001b[49m\u001b[43mname\u001b[49m\u001b[38;5;241;43m=\u001b[39;49m\u001b[38;5;124;43m'\u001b[39;49m\u001b[38;5;124;43mPanda\u001b[39;49m\u001b[38;5;124;43m'\u001b[39;49m\u001b[43m,\u001b[49m\u001b[43mrel_xml_path\u001b[49m\u001b[38;5;241;43m=\u001b[39;49m\u001b[43mxml_path\u001b[49m\u001b[43m,\u001b[49m\u001b[43mVERBOSE\u001b[49m\u001b[38;5;241;43m=\u001b[39;49m\u001b[38;5;28;43;01mTrue\u001b[39;49;00m\u001b[43m)\u001b[49m\n\u001b[1;32m      3\u001b[0m \u001b[38;5;28mprint\u001b[39m (\u001b[38;5;124m\"\u001b[39m\u001b[38;5;124m[Panda] parsed.\u001b[39m\u001b[38;5;124m\"\u001b[39m)\n",
      "File \u001b[0;32m~/Dropbox/Mac/Implementation/yet-another-mujoco-tutorial/code/mujoco_parser.py:22\u001b[0m, in \u001b[0;36mMuJoCoParserClass.__init__\u001b[0;34m(self, name, rel_xml_path, USE_MUJOCO_VIEWER, VERBOSE)\u001b[0m\n\u001b[1;32m     20\u001b[0m \u001b[38;5;66;03m# Parse an xml file\u001b[39;00m\n\u001b[1;32m     21\u001b[0m \u001b[38;5;28;01mif\u001b[39;00m \u001b[38;5;28mself\u001b[39m\u001b[38;5;241m.\u001b[39mrel_xml_path \u001b[38;5;129;01mis\u001b[39;00m \u001b[38;5;129;01mnot\u001b[39;00m \u001b[38;5;28;01mNone\u001b[39;00m:\n\u001b[0;32m---> 22\u001b[0m     \u001b[38;5;28;43mself\u001b[39;49m\u001b[38;5;241;43m.\u001b[39;49m\u001b[43m_parse_xml\u001b[49m\u001b[43m(\u001b[49m\u001b[43m)\u001b[49m\n\u001b[1;32m     23\u001b[0m \u001b[38;5;66;03m# Viewer\u001b[39;00m\n\u001b[1;32m     24\u001b[0m \u001b[38;5;28mself\u001b[39m\u001b[38;5;241m.\u001b[39mUSE_MUJOCO_VIEWER \u001b[38;5;241m=\u001b[39m USE_MUJOCO_VIEWER\n",
      "File \u001b[0;32m~/Dropbox/Mac/Implementation/yet-another-mujoco-tutorial/code/mujoco_parser.py:38\u001b[0m, in \u001b[0;36mMuJoCoParserClass._parse_xml\u001b[0;34m(self)\u001b[0m\n\u001b[1;32m     34\u001b[0m \u001b[38;5;250m\u001b[39m\u001b[38;5;124;03m\"\"\"\u001b[39;00m\n\u001b[1;32m     35\u001b[0m \u001b[38;5;124;03m    Parse an xml file\u001b[39;00m\n\u001b[1;32m     36\u001b[0m \u001b[38;5;124;03m\"\"\"\u001b[39;00m\n\u001b[1;32m     37\u001b[0m \u001b[38;5;28mself\u001b[39m\u001b[38;5;241m.\u001b[39mfull_xml_path   \u001b[38;5;241m=\u001b[39m os\u001b[38;5;241m.\u001b[39mpath\u001b[38;5;241m.\u001b[39mabspath(os\u001b[38;5;241m.\u001b[39mpath\u001b[38;5;241m.\u001b[39mjoin(os\u001b[38;5;241m.\u001b[39mgetcwd(),\u001b[38;5;28mself\u001b[39m\u001b[38;5;241m.\u001b[39mrel_xml_path))\n\u001b[0;32m---> 38\u001b[0m \u001b[38;5;28mself\u001b[39m\u001b[38;5;241m.\u001b[39mmodel           \u001b[38;5;241m=\u001b[39m \u001b[43mmujoco\u001b[49m\u001b[38;5;241;43m.\u001b[39;49m\u001b[43mMjModel\u001b[49m\u001b[38;5;241;43m.\u001b[39;49m\u001b[43mfrom_xml_path\u001b[49m\u001b[43m(\u001b[49m\u001b[38;5;28;43mself\u001b[39;49m\u001b[38;5;241;43m.\u001b[39;49m\u001b[43mfull_xml_path\u001b[49m\u001b[43m)\u001b[49m\n\u001b[1;32m     39\u001b[0m \u001b[38;5;28mself\u001b[39m\u001b[38;5;241m.\u001b[39mdata            \u001b[38;5;241m=\u001b[39m mujoco\u001b[38;5;241m.\u001b[39mMjData(\u001b[38;5;28mself\u001b[39m\u001b[38;5;241m.\u001b[39mmodel)\n\u001b[1;32m     40\u001b[0m \u001b[38;5;28mself\u001b[39m\u001b[38;5;241m.\u001b[39mn_geom          \u001b[38;5;241m=\u001b[39m \u001b[38;5;28mself\u001b[39m\u001b[38;5;241m.\u001b[39mmodel\u001b[38;5;241m.\u001b[39mngeom \u001b[38;5;66;03m# number of geometries\u001b[39;00m\n",
      "\u001b[0;31mValueError\u001b[0m: XML Error: problem reading attribute 'fromto'\nElement 'geom', line 0\n"
     ]
    }
   ],
   "source": [
    "xml_path = '../model/panda/franka_panda_w_objs.xml'\n",
    "env = MuJoCoParserClass(name='Panda',rel_xml_path=xml_path,VERBOSE=True)\n",
    "print (\"[Panda] parsed.\")"
   ]
  },
  {
   "cell_type": "code",
   "execution_count": null,
   "id": "fa4f506f",
   "metadata": {},
   "outputs": [],
   "source": [
    "np.random.seed(seed=0)\n",
    "obj_names = env.get_body_names(prefix='obj_')\n",
    "n_obj = len(obj_names)\n",
    "colors = np.array([plt.cm.gist_rainbow(x) for x in np.linspace(0,1,n_obj)])\n",
    "colors[:,3] = 1.0\n",
    "for obj_idx,obj_name in enumerate(obj_names):\n",
    "    obj_pos = [-1.0,0.1*obj_idx,0.01]\n",
    "    obj_quat = [0,0,0,1]\n",
    "    env.model.body(obj_name).ipos = obj_pos\n",
    "    env.model.body(obj_name).iquat = obj_quat\n",
    "    env.model.geom(obj_name).rgba = colors[obj_idx] # color\n",
    "# Change table color\n",
    "table_color = [0.65,0.64,0.68]\n",
    "env.model.geom('panda_pedestal').rgba[:3] = table_color\n",
    "env.model.geom('work_space').rgba[:3] = table_color\n",
    "# Add transparency to geoms\n",
    "for geom_name in env.geom_names:\n",
    "    if geom_name == 'ground': continue\n",
    "    env.model.geom(geom_name).rgba[3] = 0.8\n",
    "# Place objects on the table\n",
    "n_place = 10\n",
    "obj2place_names = [obj_names[o_idx] for o_idx in np.random.permutation(n_obj)[:n_place].astype(int)]\n",
    "x_range = [0.3,1.0]\n",
    "y_range = [-0.5,0.5]\n",
    "z_range = [1.0,1.0]\n",
    "min_dist_btw_obj = 0.2 # minimum distance between objects\n",
    "obj2place_poses  = np.zeros((n_place,3))\n",
    "for o_idx in range(n_place):\n",
    "    loop_cnt = 0\n",
    "    while True:\n",
    "        loop_cnt = loop_cnt + 1\n",
    "        x = np.random.uniform(low=x_range[0],high=x_range[1])\n",
    "        y = np.random.uniform(low=y_range[0],high=y_range[1])\n",
    "        z = np.random.uniform(low=z_range[0],high=z_range[1])\n",
    "        xyz = np.array([x,y,z])\n",
    "        if o_idx >= 1:\n",
    "            devc = cdist(xyz.reshape((-1,3)),obj2place_poses[:o_idx,:].reshape((-1,3)),'euclidean')\n",
    "            if devc.min() > min_dist_btw_obj: break # minimum distance between objects\n",
    "        else:\n",
    "            break\n",
    "    obj2place_poses[o_idx,:] = xyz\n",
    "for obj_idx,obj_name in enumerate(obj2place_names):\n",
    "    env.model.body(obj_name).ipos = obj2place_poses[obj_idx]\n",
    "print (\"Done.\")"
   ]
  },
  {
   "cell_type": "markdown",
   "id": "81b65ec5",
   "metadata": {},
   "source": [
    "### Solve IK while checking collision"
   ]
  },
  {
   "cell_type": "code",
   "execution_count": null,
   "id": "ce13ca5b",
   "metadata": {},
   "outputs": [],
   "source": [
    "env.init_viewer(viewer_title='Spawn Objects',viewer_width=1200,viewer_height=800,viewer_hide_menus=True)\n",
    "env.update_viewer(azimuth=80,distance=2.5,elevation=-30,lookat=[0,0,1.5])\n",
    "env.update_viewer(VIS_TRANSPARENT=True) # transparent\n",
    "env.update_viewer(VIS_CONTACTPOINT=False,contactwidth=0.05,contactheight=0.05,contactrgba=np.array([1,0,0,1]))\n",
    "env.update_viewer(VIS_JOINT=True,jointlength=0.5,jointwidth=0.1,jointrgba=[0.2,0.6,0.8,0.6])\n",
    "env.reset() # reset\n",
    "\n",
    "# Open gripper (prismatic joints)\n",
    "env.forward(q=np.array([0,0,0,0,0,90,0])*np.pi/180.0,joint_idxs=env.rev_joint_idxs)\n",
    "env.forward(q=[0.04,-0.04],joint_idxs=env.pri_joint_idxs)\n",
    "\n",
    "# Set the primary and the secondary IK targets\n",
    "ik_body_name = 'panda_eef'\n",
    "p_trgt = np.array([0.8,0.0,1.2])\n",
    "R_trgt = rpy2r(np.array([-180,0,180])*np.pi/180.0)\n",
    "\n",
    "# Loop\n",
    "q = env.get_q(joint_idxs=env.rev_joint_idxs)\n",
    "imgs,img_ticks,max_tick = [],[],10000\n",
    "while (env.tick < max_tick) and env.is_viewer_alive():\n",
    "    # Get IK ingredients for the primary target\n",
    "    J,err = env.get_ik_ingredients(\n",
    "        body_name=ik_body_name,p_trgt=p_trgt,R_trgt=R_trgt,IK_P=True,IK_R=True)\n",
    "    dq = env.damped_ls(J,err,stepsize=1,eps=1e-1,th=5*np.pi/180.0)\n",
    "    # Update q and FK\n",
    "    q = q + dq[env.rev_joint_idxs]\n",
    "    env.forward(q=q,joint_idxs=env.rev_joint_idxs) # FK\n",
    "    # Get contact information\n",
    "    p_contacts,f_contacts,geom1s,geom2s = env.get_contact_info(must_include_prefix='panda')\n",
    "    # Render\n",
    "    env.plot_T(p=env.get_p_body(body_name=ik_body_name),R=env.get_R_body(body_name=ik_body_name),\n",
    "               PLOT_AXIS=True,axis_len=0.2,axis_width=0.005,PLOT_SPHERE=False)\n",
    "    env.plot_T(p=p_trgt,R=R_trgt,PLOT_AXIS=True,axis_len=0.2,axis_width=0.005,PLOT_SPHERE=False)\n",
    "    # Render contact informations\n",
    "    for (p_contact,f_contact,geom1,geom2) in zip(p_contacts,f_contacts,geom1s,geom2s):\n",
    "        f_norm = np.linalg.norm(f_contact)\n",
    "        f_uv = f_contact / (f_norm+1e-8)\n",
    "        f_len = 0.3 # f_norm*0.05\n",
    "        env.plot_arrow(p=p_contact,uv=f_uv,r_stem=0.01,len_arrow=f_len,rgba=[1,0,0,1],label='')\n",
    "        env.plot_arrow(p=p_contact,uv=-f_uv,r_stem=0.01,len_arrow=f_len,rgba=[1,0,0,1],label='')\n",
    "        label = '' # '[%s]-[%s]'%(geom1,geom2)\n",
    "        env.plot_sphere(p=p_contact,r=0.02,rgba=[1,0.2,0.2,1],label=label)\n",
    "    env.plot_T(p=[0,0,0],R=np.eye(3,3),PLOT_AXIS=True,axis_len=1.0)\n",
    "    env.render()\n",
    "    # Print and save image \n",
    "    if (env.tick)%(max_tick//10)==0 or (env.tick==1):\n",
    "        print (\"[%d/%d] IK error:[%.4f]\"%(env.tick,max_tick,np.linalg.norm(err)))\n",
    "        img = env.grab_image()\n",
    "        imgs.append(img)\n",
    "        img_ticks.append(env.tick)\n",
    "# Close viewer\n",
    "env.close_viewer()\n",
    "print (\"Done.\")"
   ]
  },
  {
   "cell_type": "code",
   "execution_count": null,
   "id": "f8f1c238",
   "metadata": {},
   "outputs": [],
   "source": []
  },
  {
   "cell_type": "code",
   "execution_count": null,
   "id": "a32a426e",
   "metadata": {},
   "outputs": [],
   "source": []
  }
 ],
 "metadata": {
  "kernelspec": {
   "display_name": "Python 3 (ipykernel)",
   "language": "python",
   "name": "python3"
  },
  "language_info": {
   "codemirror_mode": {
    "name": "ipython",
    "version": 3
   },
   "file_extension": ".py",
   "mimetype": "text/x-python",
   "name": "python",
   "nbconvert_exporter": "python",
   "pygments_lexer": "ipython3",
   "version": "3.9.16"
  }
 },
 "nbformat": 4,
 "nbformat_minor": 5
}
