{
 "cells": [
  {
   "cell_type": "markdown",
   "id": "7d1bdc68",
   "metadata": {},
   "source": [
    "### Inverse kinematics of `Panda`"
   ]
  },
  {
   "cell_type": "code",
   "execution_count": 1,
   "id": "c210c7aa",
   "metadata": {},
   "outputs": [
    {
     "name": "stdout",
     "output_type": "stream",
     "text": [
      "MuJoCo version:[2.3.2]\n"
     ]
    }
   ],
   "source": [
    "import os,glfw\n",
    "import numpy as np\n",
    "import mediapy as media\n",
    "import matplotlib.pyplot as plt\n",
    "import mujoco\n",
    "import mujoco_viewer\n",
    "np.set_printoptions(precision=2,suppress=True,linewidth=100)\n",
    "%config InlineBackend.figure_format = 'retina'\n",
    "%matplotlib inline\n",
    "print (\"MuJoCo version:[%s]\"%(mujoco.__version__))"
   ]
  },
  {
   "cell_type": "markdown",
   "id": "2fa108c2",
   "metadata": {},
   "source": [
    "### Util"
   ]
  },
  {
   "cell_type": "code",
   "execution_count": 2,
   "id": "64f4bfe7",
   "metadata": {},
   "outputs": [
    {
     "name": "stdout",
     "output_type": "stream",
     "text": [
      "Ready.\n"
     ]
    }
   ],
   "source": [
    "def r2w(R):\n",
    "    \"\"\"\n",
    "        R to \\omega\n",
    "    \"\"\"\n",
    "    el = np.array([\n",
    "            [R[2,1] - R[1,2]],\n",
    "            [R[0,2] - R[2,0]], \n",
    "            [R[1,0] - R[0,1]]\n",
    "        ])\n",
    "    norm_el = np.linalg.norm(el)\n",
    "    if norm_el > 1e-10:\n",
    "        w = np.arctan2(norm_el, np.trace(R)-1) / norm_el * el\n",
    "    elif R[0,0] > 0 and R[1,1] > 0 and R[2,2] > 0:\n",
    "        w = np.array([[0, 0, 0]]).T\n",
    "    else:\n",
    "        w = np.math.pi/2 * np.array([[R[0,0]+1], [R[1,1]+1], [R[2,2]+1]])\n",
    "    return w.flatten()\n",
    "\n",
    "def trim_scale(x,th):\n",
    "    \"\"\"\n",
    "        Trim scale\n",
    "    \"\"\"\n",
    "    x         = np.copy(x)\n",
    "    x_abs_max = np.abs(x).max()\n",
    "    if x_abs_max > th:\n",
    "        x = x*th/x_abs_max\n",
    "    return x\n",
    "print (\"Ready.\")"
   ]
  },
  {
   "cell_type": "markdown",
   "id": "691858ff",
   "metadata": {},
   "source": [
    "### Parse `Panda`"
   ]
  },
  {
   "cell_type": "code",
   "execution_count": 3,
   "id": "08ed461c",
   "metadata": {},
   "outputs": [
    {
     "name": "stdout",
     "output_type": "stream",
     "text": [
      "[Panda] parsed.\n"
     ]
    }
   ],
   "source": [
    "xml_path='../model/panda/franka_panda.xml'\n",
    "full_xml_path = os.path.abspath(os.path.join(os.getcwd(),xml_path))\n",
    "model = mujoco.MjModel.from_xml_path(full_xml_path)\n",
    "data = mujoco.MjData(model)\n",
    "print (\"[Panda] parsed.\")"
   ]
  },
  {
   "cell_type": "code",
   "execution_count": 4,
   "id": "78770a25",
   "metadata": {},
   "outputs": [
    {
     "name": "stdout",
     "output_type": "stream",
     "text": [
      "n_body:[18]\n",
      "body_names:['world', 'panda_base', 'panda_pedestal', 'panda_link_0', 'panda_link_1', 'panda_link_2', 'panda_link_3', 'panda_link_4', 'panda_link_5', 'panda_link_6', 'panda_link_7', 'right_hand', 'panda_right_gripper', 'panda_eef', 'panda_leftfinger', 'panda_finger_joint1_tip', 'panda_rightfinger', 'panda_finger_joint2_tip']\n",
      "n_joint:[9]\n",
      "joint_names:['panda_joint1', 'panda_joint2', 'panda_joint3', 'panda_joint4', 'panda_joint5', 'panda_joint6', 'panda_joint7', 'panda_finger_joint1', 'panda_finger_joint2']\n",
      "joint_types:[3 3 3 3 3 3 3 2 2]\n",
      "joint_ranges:\n",
      "[[-2.9   2.9 ]\n",
      " [-1.76  1.76]\n",
      " [-2.9   2.9 ]\n",
      " [-3.07 -0.07]\n",
      " [-2.9   2.9 ]\n",
      " [-0.02  3.75]\n",
      " [-2.9   2.9 ]\n",
      " [ 0.    0.04]\n",
      " [-0.04  0.  ]]\n",
      "n_rev_joint:[7]\n",
      "rev_joint_idxs:[0 1 2 3 4 5 6]\n",
      "rev_joint_names:['panda_joint1', 'panda_joint2', 'panda_joint3', 'panda_joint4', 'panda_joint5', 'panda_joint6', 'panda_joint7']\n",
      "rev_joint_min:[-2.9  -1.76 -2.9  -3.07 -2.9  -0.02 -2.9 ]\n",
      "rev_joint_max:[ 2.9   1.76  2.9  -0.07  2.9   3.75  2.9 ]\n",
      "rev_joint_range:[5.79 3.53 5.79 3.   5.79 3.77 5.79]\n",
      "n_pri_joint:[2]\n",
      "pri_joint_idxs:[7 8]\n",
      "pri_joint_names:['panda_finger_joint1', 'panda_finger_joint2']\n"
     ]
    }
   ],
   "source": [
    "n_body          = model.nbody # number of bodies\n",
    "body_names      = [mujoco.mj_id2name(model,mujoco.mjtObj.mjOBJ_BODY,x) for x in range(n_body)]\n",
    "n_joint         = model.njnt     # number of joints\n",
    "joint_names     = [mujoco.mj_id2name(model,mujoco.mjtJoint.mjJNT_HINGE,x) for x in range(n_joint)]\n",
    "joint_types     = model.jnt_type # joint types\n",
    "joint_ranges    = model.jnt_range # joint ranges\n",
    "rev_joint_idxs  = np.where(joint_types==mujoco.mjtJoint.mjJNT_HINGE)[0].astype(np.int32)\n",
    "rev_joint_names = [joint_names[x] for x in rev_joint_idxs]\n",
    "n_rev_joint     = len(rev_joint_idxs)\n",
    "rev_joint_min   = joint_ranges[rev_joint_idxs,0]\n",
    "rev_joint_max   = joint_ranges[rev_joint_idxs,1]\n",
    "rev_joint_range = rev_joint_max - rev_joint_min\n",
    "pri_joint_idxs  = np.where(joint_types==mujoco.mjtJoint.mjJNT_SLIDE)[0].astype(np.int32)\n",
    "pri_joint_names = [joint_names[x] for x in pri_joint_idxs]\n",
    "n_pri_joint     = len(pri_joint_idxs)\n",
    "# Print\n",
    "print (\"n_body:[%d]\"%(n_body))\n",
    "print (\"body_names:%s\"%(body_names))\n",
    "print (\"n_joint:[%d]\"%(n_joint))\n",
    "print (\"joint_names:%s\"%(joint_names))\n",
    "print (\"joint_types:%s\"%(joint_types))\n",
    "print (\"joint_ranges:\\n%s\"%(joint_ranges))\n",
    "print (\"n_rev_joint:[%d]\"%(n_rev_joint))\n",
    "print (\"rev_joint_idxs:%s\"%(rev_joint_idxs))\n",
    "print (\"rev_joint_names:%s\"%(rev_joint_names))\n",
    "print (\"rev_joint_min:%s\"%(rev_joint_min))\n",
    "print (\"rev_joint_max:%s\"%(rev_joint_max))\n",
    "print (\"rev_joint_range:%s\"%(rev_joint_range))\n",
    "print (\"n_pri_joint:[%d]\"%(n_pri_joint))\n",
    "print (\"pri_joint_idxs:%s\"%(pri_joint_idxs))\n",
    "print (\"pri_joint_names:%s\"%(pri_joint_names))"
   ]
  },
  {
   "cell_type": "code",
   "execution_count": 9,
   "id": "0f25ed6a",
   "metadata": {},
   "outputs": [],
   "source": [
    "# Viewer\n",
    "viewer = mujoco_viewer.MujocoViewer(model,data,mode='window',\n",
    "    title='Panda in MuJoCo',width=1200,height=800,hide_menus=True)\n",
    "viewer.cam.azimuth   = 80\n",
    "viewer.cam.distance  = 4.0\n",
    "viewer.cam.elevation = -30\n",
    "viewer.cam.lookat = np.array([0,0,1.2])\n",
    "# Simulate and render\n",
    "mujoco.mj_resetData(model, data)\n",
    "mujoco.mj_forward(model, data)\n",
    "# Set IK target\n",
    "body_name = 'panda_eef'\n",
    "q = data.qpos[rev_joint_idxs]\n",
    "p_EE   = data.body(body_name).xpos\n",
    "R_EE   = data.body(body_name).xmat.reshape([3,3])\n",
    "p_trgt = p_EE + np.array([0.5,0.0,-0.5])\n",
    "R_trgt = R_EE\n",
    "# Loop\n",
    "max_tick = 200\n",
    "imgs = []\n",
    "for tick in range(max_tick):\n",
    "    if viewer.is_alive:\n",
    "        # Compute Jacobian matrices\n",
    "        J_p = np.zeros((3,model.nv)) # nv: nDoF\n",
    "        J_R = np.zeros((3,model.nv))\n",
    "        mujoco.mj_jacBody(model,data,J_p,J_R,data.body(body_name).id)\n",
    "        J_p = J_p[:,rev_joint_idxs]\n",
    "        J_R = J_R[:,rev_joint_idxs]\n",
    "        J_full = np.array(np.vstack([J_p,J_R]))\n",
    "        # Numerical IK\n",
    "        p_curr = data.body(body_name).xpos\n",
    "        R_curr = data.body(body_name).xmat.reshape([3,3])\n",
    "        p_err  = (p_trgt-p_curr)\n",
    "        R_err  = np.linalg.solve(R_curr,R_trgt)\n",
    "        w_err  = R_curr @ r2w(R_err)\n",
    "        # Compute dq\n",
    "        J   = J_full\n",
    "        err = np.concatenate((p_err,w_err))\n",
    "        eps = 1e-6\n",
    "        dq  = np.linalg.solve(a=(J.T@J)+eps*np.eye(J.shape[1]),b=J.T@err)\n",
    "        dq  = trim_scale(x=dq,th=5.0*np.pi/180.0)\n",
    "        # Update\n",
    "        q = q + dq\n",
    "        data.qpos[rev_joint_idxs] = q\n",
    "        # FK\n",
    "        mujoco.mj_forward(model,data)\n",
    "        # Render\n",
    "        viewer.add_marker(\n",
    "            pos   = data.body(body_name).xpos,\n",
    "            size  = [0.05,0.05,0.05],\n",
    "            rgba  = [1,0,0,0.3],\n",
    "            type  = mujoco.mjtGeom.mjGEOM_SPHERE,\n",
    "            label = '')\n",
    "        viewer.add_marker(\n",
    "            pos   = p_trgt,\n",
    "            size  = [0.05,0.05,0.05],\n",
    "            rgba  = [0,0,1,0.3],\n",
    "            type  = mujoco.mjtGeom.mjGEOM_SPHERE,\n",
    "            label = '')\n",
    "        viewer.render()\n",
    "    else: break # terminate if viewer is dead\n",
    "    # Grab image\n",
    "    if (tick % 20) == 0:\n",
    "        img = np.zeros((viewer.viewport.height,viewer.viewport.width,3),dtype=np.uint8)\n",
    "        mujoco.mjr_render(viewer.viewport, viewer.scn, viewer.ctx)\n",
    "        mujoco.mjr_readPixels(img, None, viewer.viewport, viewer.ctx) # this makes a little delay\n",
    "        img = np.flipud(img) # flip image\n",
    "        imgs.append(img)\n",
    "# close viewer\n",
    "viewer.close()"
   ]
  },
  {
   "cell_type": "code",
   "execution_count": null,
   "id": "4605cfd5",
   "metadata": {},
   "outputs": [],
   "source": []
  }
 ],
 "metadata": {
  "kernelspec": {
   "display_name": "Python 3 (ipykernel)",
   "language": "python",
   "name": "python3"
  },
  "language_info": {
   "codemirror_mode": {
    "name": "ipython",
    "version": 3
   },
   "file_extension": ".py",
   "mimetype": "text/x-python",
   "name": "python",
   "nbconvert_exporter": "python",
   "pygments_lexer": "ipython3",
   "version": "3.9.16"
  }
 },
 "nbformat": 4,
 "nbformat_minor": 5
}
