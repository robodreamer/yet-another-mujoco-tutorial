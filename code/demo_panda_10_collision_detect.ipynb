{
 "cells": [
  {
   "cell_type": "markdown",
   "id": "b37539e8",
   "metadata": {},
   "source": [
    "### Collision detection"
   ]
  },
  {
   "cell_type": "code",
   "execution_count": 1,
   "id": "d93c272a",
   "metadata": {},
   "outputs": [
    {
     "name": "stdout",
     "output_type": "stream",
     "text": [
      "MuJoCo version:[2.3.2]\n"
     ]
    }
   ],
   "source": [
    "import mujoco\n",
    "import numpy as np\n",
    "import matplotlib.pyplot as plt\n",
    "from mujoco_parser import MuJoCoParserClass\n",
    "from util import rpy2r,r2rpy\n",
    "from scipy.spatial.distance import cdist\n",
    "np.set_printoptions(precision=2,suppress=True,linewidth=100)\n",
    "%config InlineBackend.figure_format = 'retina'\n",
    "%matplotlib inline\n",
    "print (\"MuJoCo version:[%s]\"%(mujoco.__version__))"
   ]
  },
  {
   "cell_type": "markdown",
   "id": "e0dee299",
   "metadata": {},
   "source": [
    "### Parse `Panda` with objects"
   ]
  },
  {
   "cell_type": "code",
   "execution_count": 2,
   "id": "d28bae09",
   "metadata": {
    "scrolled": true
   },
   "outputs": [
    {
     "name": "stdout",
     "output_type": "stream",
     "text": [
      "n_body:[37]\n",
      "geom_names:['ground', 'panda_pedestal', 'panda_link_0_visual', 'panda_link_0_collision', 'panda_link_1_visual', 'panda_link_1_collision', 'panda_link_2_visual', 'panda_link_2_collision', 'panda_link_3_visual', 'panda_link_3_collision', 'panda_link_4_visual', 'panda_link_4_collision', 'panda_link_5_visual', 'panda_link_5_collision', 'panda_link_6_visual', 'panda_link_6_collision', 'panda_link_7_visual', 'panda_link_7_collision', 'panda_hand_visual', 'panda_hand_collision', 'panda_finger1_visual', 'panda_finger1_collision', 'panda_finger1_pad_collision', 'panda_finger2_visual', 'panda_finger2_collision', 'panda_finger2_pad_collision', 'work_space', 'obj_box_01', 'obj_box_02', 'obj_box_03', 'obj_box_04', 'obj_box_05', 'obj_cylinder_01', 'obj_cylinder_02', 'obj_cylinder_03', 'obj_cylinder_04', 'obj_cylinder_05']\n",
      "n_body:[29]\n",
      "body_names:['world', 'panda_base', 'panda_pedestal', 'panda_link_0', 'panda_link_1', 'panda_link_2', 'panda_link_3', 'panda_link_4', 'panda_link_5', 'panda_link_6', 'panda_link_7', 'right_hand', 'panda_right_gripper', 'panda_eef', 'panda_leftfinger', 'panda_finger_joint1_tip', 'panda_rightfinger', 'panda_finger_joint2_tip', 'work_space', 'obj_box_01', 'obj_box_02', 'obj_box_03', 'obj_box_04', 'obj_box_05', 'obj_cylinder_01', 'obj_cylinder_02', 'obj_cylinder_03', 'obj_cylinder_04', 'obj_cylinder_05']\n",
      "n_joint:[9]\n",
      "joint_names:['panda_joint1', 'panda_joint2', 'panda_joint3', 'panda_joint4', 'panda_joint5', 'panda_joint6', 'panda_joint7', 'panda_finger_joint1', 'panda_finger_joint2']\n",
      "joint_types:[3 3 3 3 3 3 3 2 2]\n",
      "joint_ranges:\n",
      "[[-2.9   2.9 ]\n",
      " [-1.76  1.76]\n",
      " [-2.9   2.9 ]\n",
      " [-3.07 -0.07]\n",
      " [-2.9   2.9 ]\n",
      " [-0.02  3.75]\n",
      " [-2.9   2.9 ]\n",
      " [ 0.    0.04]\n",
      " [-0.04  0.  ]]\n",
      "n_rev_joint:[7]\n",
      "rev_joint_idxs:[0 1 2 3 4 5 6]\n",
      "rev_joint_names:['panda_joint1', 'panda_joint2', 'panda_joint3', 'panda_joint4', 'panda_joint5', 'panda_joint6', 'panda_joint7']\n",
      "rev_joint_mins:[-2.9  -1.76 -2.9  -3.07 -2.9  -0.02 -2.9 ]\n",
      "rev_joint_maxs:[ 2.9   1.76  2.9  -0.07  2.9   3.75  2.9 ]\n",
      "rev_joint_ranges:[5.79 3.53 5.79 3.   5.79 3.77 5.79]\n",
      "n_pri_joint:[2]\n",
      "pri_joint_idxs:[7 8]\n",
      "pri_joint_names:['panda_finger_joint1', 'panda_finger_joint2']\n",
      "pri_joint_mins:[ 0.   -0.04]\n",
      "pri_joint_maxs:[0.04 0.  ]\n",
      "pri_joint_ranges:[0.04 0.04]\n",
      "n_ctrl:[9]\n",
      "ctrl_names:['panda_torq_j1', 'panda_torq_j2', 'panda_torq_j3', 'panda_torq_j4', 'panda_torq_j5', 'panda_torq_j6', 'panda_torq_j7', 'panda_gripper_finger_joint1', 'panda_gripper_finger_joint2']\n",
      "ctrl_joint_idxs:[0, 1, 2, 3, 4, 5, 6, 7, 8]\n",
      "ctrl_ranges:\n",
      "[[-80.    80.  ]\n",
      " [-80.    80.  ]\n",
      " [-80.    80.  ]\n",
      " [-80.    80.  ]\n",
      " [-80.    80.  ]\n",
      " [-12.    12.  ]\n",
      " [-12.    12.  ]\n",
      " [  0.     0.04]\n",
      " [ -0.04   0.  ]]\n",
      "[Panda] parsed.\n"
     ]
    }
   ],
   "source": [
    "xml_path = '../model/panda/franka_panda_w_objs.xml'\n",
    "env = MuJoCoParserClass(name='Panda',rel_xml_path=xml_path,VERBOSE=True)\n",
    "print (\"[Panda] parsed.\")"
   ]
  },
  {
   "cell_type": "code",
   "execution_count": 3,
   "id": "fa4f506f",
   "metadata": {},
   "outputs": [
    {
     "name": "stdout",
     "output_type": "stream",
     "text": [
      "Done.\n"
     ]
    }
   ],
   "source": [
    "np.random.seed(seed=0)\n",
    "obj_names = env.get_body_names(prefix='obj_')\n",
    "n_obj = len(obj_names)\n",
    "colors = np.array([plt.cm.gist_rainbow(x) for x in np.linspace(0,1,n_obj)])\n",
    "colors[:,3] = 1.0\n",
    "for obj_idx,obj_name in enumerate(obj_names):\n",
    "    obj_pos = [-1.0,0.1*obj_idx,0.01]\n",
    "    obj_quat = [0,0,0,1]\n",
    "    env.model.body(obj_name).ipos = obj_pos\n",
    "    env.model.body(obj_name).iquat = obj_quat\n",
    "    env.model.geom(obj_name).rgba = colors[obj_idx] # color\n",
    "# Change table color\n",
    "table_color = [0.65,0.64,0.68]\n",
    "env.model.geom('panda_pedestal').rgba[:3] = table_color\n",
    "env.model.geom('work_space').rgba[:3] = table_color\n",
    "# Add transparency to geoms\n",
    "for geom_name in env.geom_names:\n",
    "    if geom_name == 'ground': continue\n",
    "    env.model.geom(geom_name).rgba[3] = 0.8\n",
    "# Place objects on the table\n",
    "n_place = 10\n",
    "obj2place_names = [obj_names[o_idx] \n",
    "                   for o_idx in np.random.permutation(n_obj)[:n_place].astype(int)]\n",
    "x_range = [0.3,1.0]\n",
    "y_range = [-0.5,0.5]\n",
    "z_range = [1.0,1.0]\n",
    "min_dist_btw_obj = 0.2 # minimum distance between objects\n",
    "obj2place_poses  = np.zeros((n_place,3))\n",
    "for o_idx in range(n_place):\n",
    "    loop_cnt = 0\n",
    "    while True:\n",
    "        loop_cnt = loop_cnt + 1\n",
    "        x = np.random.uniform(low=x_range[0],high=x_range[1])\n",
    "        y = np.random.uniform(low=y_range[0],high=y_range[1])\n",
    "        z = np.random.uniform(low=z_range[0],high=z_range[1])\n",
    "        xyz = np.array([x,y,z])\n",
    "        if o_idx >= 1:\n",
    "            devc = cdist(xyz.reshape((-1,3)),obj2place_poses[:o_idx,:].reshape((-1,3)),\n",
    "                         'euclidean')\n",
    "            if devc.min() > min_dist_btw_obj: break # minimum distance between objects\n",
    "        else:\n",
    "            break\n",
    "    obj2place_poses[o_idx,:] = xyz\n",
    "for obj_idx,obj_name in enumerate(obj2place_names):\n",
    "    env.model.body(obj_name).ipos = obj2place_poses[obj_idx]\n",
    "print (\"Done.\")"
   ]
  },
  {
   "cell_type": "markdown",
   "id": "81b65ec5",
   "metadata": {},
   "source": [
    "### Solve IK while checking collision"
   ]
  },
  {
   "cell_type": "code",
   "execution_count": 4,
   "id": "ce13ca5b",
   "metadata": {},
   "outputs": [
    {
     "name": "stdout",
     "output_type": "stream",
     "text": [
      "[100/1000] IK error:[0.0009]\n",
      "[200/1000] IK error:[0.0004]\n",
      "[300/1000] IK error:[0.0002]\n",
      "[400/1000] IK error:[0.0001]\n",
      "[500/1000] IK error:[0.0000]\n",
      "[600/1000] IK error:[0.0000]\n",
      "[700/1000] IK error:[0.0000]\n",
      "[800/1000] IK error:[0.0000]\n",
      "[900/1000] IK error:[0.0000]\n",
      "[1000/1000] IK error:[0.0000]\n",
      "Done.\n"
     ]
    }
   ],
   "source": [
    "env.init_viewer(viewer_title='Spawn Objects',viewer_width=1200,viewer_height=800,\n",
    "                viewer_hide_menus=True)\n",
    "env.update_viewer(azimuth=80,distance=2.5,elevation=-30,lookat=[0,0,1.5])\n",
    "env.update_viewer(VIS_TRANSPARENT=True) # transparent\n",
    "env.update_viewer(VIS_CONTACTPOINT=False,\n",
    "                  contactwidth=0.05,contactheight=0.05,contactrgba=np.array([1,0,0,1]))\n",
    "env.update_viewer(VIS_JOINT=True,jointlength=0.5,jointwidth=0.1,\n",
    "                  jointrgba=[0.2,0.6,0.8,0.6])\n",
    "env.reset() # reset\n",
    "\n",
    "# Open gripper (prismatic joints)\n",
    "env.forward(q=np.array([0,0,0,0,0,90,0])*np.pi/180.0,joint_idxs=env.rev_joint_idxs)\n",
    "env.forward(q=[0.04,-0.04],joint_idxs=env.pri_joint_idxs)\n",
    "\n",
    "# Set the primary and the secondary IK targets\n",
    "ik_body_name = 'panda_eef'\n",
    "p_trgt = np.array([0.8,0.0,1.2])\n",
    "R_trgt = rpy2r(np.array([-180,0,180])*np.pi/180.0)\n",
    "\n",
    "# Loop\n",
    "q = env.get_q(joint_idxs=env.rev_joint_idxs)\n",
    "imgs,img_ticks,max_tick = [],[],1000\n",
    "while (env.tick < max_tick) and env.is_viewer_alive():\n",
    "    # Get IK ingredients for the primary target\n",
    "    J,err = env.get_ik_ingredients(\n",
    "        body_name=ik_body_name,p_trgt=p_trgt,R_trgt=R_trgt,IK_P=True,IK_R=True)\n",
    "    dq = env.damped_ls(J,err,stepsize=1,eps=1e-1,th=5*np.pi/180.0)\n",
    "    # Update q and FK\n",
    "    q = q + dq[env.rev_joint_idxs]\n",
    "    env.forward(q=q,joint_idxs=env.rev_joint_idxs) # FK\n",
    "    # Get contact information\n",
    "    p_contacts,f_contacts,geom1s,geom2s = env.get_contact_info(\n",
    "        must_include_prefix='panda')\n",
    "    # Render\n",
    "    env.plot_T(p=env.get_p_body(body_name=ik_body_name),\n",
    "               R=env.get_R_body(body_name=ik_body_name),\n",
    "               PLOT_AXIS=True,axis_len=0.2,axis_width=0.005,PLOT_SPHERE=False)\n",
    "    env.plot_T(p=p_trgt,R=R_trgt,PLOT_AXIS=True,axis_len=0.2,axis_width=0.005,\n",
    "               PLOT_SPHERE=False)\n",
    "    # Render contact informations\n",
    "    for (p_contact,f_contact,geom1,geom2) in zip(p_contacts,f_contacts,geom1s,geom2s):\n",
    "        f_norm = np.linalg.norm(f_contact)\n",
    "        f_uv = f_contact / (f_norm+1e-8)\n",
    "        f_len = 0.3 # f_norm*0.05\n",
    "        env.plot_arrow(p=p_contact,uv=f_uv,r_stem=0.01,len_arrow=f_len,rgba=[1,0,0,1],\n",
    "                       label='')\n",
    "        env.plot_arrow(p=p_contact,uv=-f_uv,r_stem=0.01,len_arrow=f_len,rgba=[1,0,0,1],\n",
    "                       label='')\n",
    "        label = '' # '[%s]-[%s]'%(geom1,geom2)\n",
    "        env.plot_sphere(p=p_contact,r=0.02,rgba=[1,0.2,0.2,1],label=label)\n",
    "    env.plot_T(p=[0,0,0],R=np.eye(3,3),PLOT_AXIS=True,axis_len=1.0)\n",
    "    env.render()\n",
    "    # Print and save image \n",
    "    if (env.tick)%(max_tick//10)==0 or (env.tick==1):\n",
    "        print (\"[%d/%d] IK error:[%.4f]\"%(env.tick,max_tick,np.linalg.norm(err)))\n",
    "        img = env.grab_image()\n",
    "        imgs.append(img)\n",
    "        img_ticks.append(env.tick)\n",
    "# Close viewer\n",
    "env.close_viewer()\n",
    "print (\"Done.\")"
   ]
  },
  {
   "cell_type": "code",
   "execution_count": null,
   "id": "a32a426e",
   "metadata": {},
   "outputs": [],
   "source": [
    "# Plot snapshots for Panda solving IK\n",
    "n_row = np.ceil(len(imgs)/4).astype(np.int32)\n",
    "fig = plt.figure(figsize=(10,1.5*n_row))\n",
    "for i_idx,img in enumerate(imgs):\n",
    "    ax = fig.add_subplot(np.ceil(len(imgs)/4).astype(np.int32),4,i_idx+1)\n",
    "    ax.imshow(img)\n",
    "    ax.set_title('[%d] tick:[%d/%d]'%(i_idx,img_ticks[i_idx],max_tick),fontsize=8)\n",
    "    ax.axis('off')\n",
    "plt.show()    "
   ]
  },
  {
   "cell_type": "code",
   "execution_count": null,
   "id": "25057fc9",
   "metadata": {},
   "outputs": [],
   "source": []
  }
 ],
 "metadata": {
  "kernelspec": {
   "display_name": "Python 3 (ipykernel)",
   "language": "python",
   "name": "python3"
  },
  "language_info": {
   "codemirror_mode": {
    "name": "ipython",
    "version": 3
   },
   "file_extension": ".py",
   "mimetype": "text/x-python",
   "name": "python",
   "nbconvert_exporter": "python",
   "pygments_lexer": "ipython3",
   "version": "3.9.16"
  }
 },
 "nbformat": 4,
 "nbformat_minor": 5
}
