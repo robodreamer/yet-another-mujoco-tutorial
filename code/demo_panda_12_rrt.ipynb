{
 "cells": [
  {
   "cell_type": "markdown",
   "id": "f5902236",
   "metadata": {},
   "source": [
    "### RRT using `Panda`"
   ]
  },
  {
   "cell_type": "code",
   "execution_count": 1,
   "id": "ecc2ac72",
   "metadata": {},
   "outputs": [
    {
     "name": "stdout",
     "output_type": "stream",
     "text": [
      "networkx version:[3.0]\n",
      "MuJoCo version:[2.3.2]\n"
     ]
    }
   ],
   "source": [
    "import mujoco\n",
    "import numpy as np\n",
    "import matplotlib.pyplot as plt\n",
    "import networkx as nx\n",
    "from mujoco_parser import MuJoCoParserClass\n",
    "from rrt import RapidlyExploringRandomTreesStarClass\n",
    "from util import rpy2r,r2rpy\n",
    "from scipy.spatial.distance import cdist\n",
    "np.set_printoptions(precision=2,suppress=True,linewidth=100)\n",
    "%config InlineBackend.figure_format = 'retina'\n",
    "%matplotlib inline\n",
    "print (\"networkx version:[%s]\"%(nx.__version__))\n",
    "print (\"MuJoCo version:[%s]\"%(mujoco.__version__))"
   ]
  },
  {
   "cell_type": "markdown",
   "id": "4746c577",
   "metadata": {},
   "source": [
    "### Parse `Panda`"
   ]
  },
  {
   "cell_type": "code",
   "execution_count": 2,
   "id": "16328e4c",
   "metadata": {},
   "outputs": [
    {
     "name": "stdout",
     "output_type": "stream",
     "text": [
      "Done.\n"
     ]
    }
   ],
   "source": [
    "xml_path = '../model/panda/franka_panda_w_objs.xml'\n",
    "env = MuJoCoParserClass(name='Panda',rel_xml_path=xml_path,VERBOSE=False)\n",
    "# Initialize object locations\n",
    "np.random.seed(seed=1)\n",
    "obj_names = env.get_body_names(prefix='obj_')\n",
    "n_obj = len(obj_names)\n",
    "colors = np.array([plt.cm.gist_rainbow(x) for x in np.linspace(0,1,n_obj)])\n",
    "colors[:,3] = 1.0\n",
    "for obj_idx,obj_name in enumerate(obj_names):\n",
    "    env.model.body(obj_name).ipos = [-1.0,0.1*obj_idx,0.01]\n",
    "    env.model.body(obj_name).iquat = [0,0,0,1]\n",
    "    env.model.geom(obj_name).rgba = colors[obj_idx] # color\n",
    "# Add transparency to geoms (excluding ground)\n",
    "for geom_name in env.geom_names:\n",
    "    if geom_name == 'ground': continue\n",
    "    env.model.geom(geom_name).rgba[3] = 0.8\n",
    "# Set objects\n",
    "body_name = 'obj_box_01'\n",
    "geom_name = env.geom_names[env.model.body(body_name).geomadr[0]]\n",
    "pos_z,obj_height = 1.0,0.8 # object height and z-position\n",
    "env.model.geom(geom_name).pos  = np.array([0.0,0.0,0.0])\n",
    "env.model.geom(geom_name).size = np.array([0.05,0.05,obj_height/2])\n",
    "env.model.body(body_name).pos  = np.array([0.0,0.0,pos_z])\n",
    "env.model.body(body_name).ipos = np.array([0.5,0.0,obj_height/2]) # position\n",
    "# Check env.model.body(body_name) / env.model.geom(geom_name)\n",
    "print (\"Done.\")"
   ]
  },
  {
   "cell_type": "markdown",
   "id": "d437c431",
   "metadata": {},
   "source": [
    "### Get initial and final poses by solving IK"
   ]
  },
  {
   "cell_type": "code",
   "execution_count": 3,
   "id": "f8f9e3bc",
   "metadata": {},
   "outputs": [
    {
     "name": "stdout",
     "output_type": "stream",
     "text": [
      "Done.\n"
     ]
    }
   ],
   "source": [
    "env.init_viewer(viewer_title='Spawn Objects',viewer_width=1200,viewer_height=800,viewer_hide_menus=True)\n",
    "env.update_viewer(azimuth=80,distance=2.5,elevation=-30,lookat=[0,0,1.5])\n",
    "env.update_viewer(VIS_TRANSPARENT=True,VIS_CONTACTPOINT=False,\n",
    "                  contactwidth=0.05,contactheight=0.05,contactrgba=np.array([1,0,0,1]))\n",
    "env.update_viewer(VIS_JOINT=True,jointlength=0.5,jointwidth=0.1,jointrgba=[0.2,0.6,0.8,0.6])\n",
    "env.reset() # reset\n",
    "q_rev_init = env.get_q(joint_idxs=env.rev_joint_idxs) # get initial joint position\n",
    "\n",
    "# Open gripper (prismatic joints)\n",
    "env.forward(q=np.array([0,0,0,0,0,90,0])*np.pi/180.0,joint_idxs=env.rev_joint_idxs)\n",
    "env.forward(q=[0.04,-0.04],joint_idxs=env.pri_joint_idxs) # open gripper\n",
    "\n",
    "# Set IK for the initial pose\n",
    "ik_body_name = 'panda_eef'\n",
    "p_trgt,R_trgt = np.array([0.6,-0.5,1.1]),rpy2r(np.array([-180,0,90])*np.pi/180.0)\n",
    "env.forward(q=q_rev_init,joint_idxs=env.rev_joint_idxs)\n",
    "while (env.tick < 10000) and env.is_viewer_alive():\n",
    "    q,err = env.onestep_ik(\n",
    "        body_name=ik_body_name,p_trgt=p_trgt,R_trgt=R_trgt,IK_P=True,IK_R=True,\n",
    "        joint_idxs=env.rev_joint_idxs,stepsize=1,eps=1e-1,th=5*np.pi/180.0)\n",
    "    env.render(render_every=5)\n",
    "    if np.linalg.norm(err) < 1e-6: break\n",
    "q_init = env.get_q(joint_idxs=env.rev_joint_idxs)\n",
    "\n",
    "# Set IK for the final pose\n",
    "ik_body_name = 'panda_eef'\n",
    "p_trgt,R_trgt = np.array([0.6,0.5,1.1]),rpy2r(np.array([-180,0,90])*np.pi/180.0)\n",
    "env.forward(q=q_rev_init,joint_idxs=env.rev_joint_idxs)\n",
    "while (env.tick < 10000) and env.is_viewer_alive():\n",
    "    q,err = env.onestep_ik(\n",
    "        body_name=ik_body_name,p_trgt=p_trgt,R_trgt=R_trgt,IK_P=True,IK_R=True,\n",
    "        joint_idxs=env.rev_joint_idxs,stepsize=1,eps=1e-1,th=5*np.pi/180.0)\n",
    "    env.render(render_every=5)\n",
    "    if np.linalg.norm(err) < 1e-6: break\n",
    "q_final = env.get_q(joint_idxs=env.rev_joint_idxs)\n",
    "\n",
    "# Close viewer\n",
    "env.close_viewer()\n",
    "print (\"Done.\")"
   ]
  },
  {
   "cell_type": "markdown",
   "id": "e265b11b",
   "metadata": {},
   "source": [
    "### RRT"
   ]
  },
  {
   "cell_type": "code",
   "execution_count": 6,
   "id": "e3c4bc96",
   "metadata": {},
   "outputs": [
    {
     "name": "stdout",
     "output_type": "stream",
     "text": [
      "[RRT-Star-Panda] ready.\n"
     ]
    }
   ],
   "source": [
    "RRT = RapidlyExploringRandomTreesStarClass(\n",
    "    name='RRT-Star-Panda',\n",
    "    point_min=env.joint_ranges[env.rev_joint_idxs][:,0],\n",
    "    point_max=env.joint_ranges[env.rev_joint_idxs][:,1],\n",
    "    goal_select_rate=0.1,\n",
    "    steer_len_max=np.deg2rad(30),search_radius=np.deg2rad(45),norm_ord=2,\n",
    "    n_node_max=10000,TERMINATE_WHEN_GOAL_REACHED=False)\n",
    "# Set root and goal points\n",
    "RRT.init_rrt_star(point_root=q_init,point_goal=q_final)\n",
    "print (\"[%s] ready.\"%(RRT.name))"
   ]
  },
  {
   "cell_type": "markdown",
   "id": "5a3f79bf",
   "metadata": {},
   "source": [
    "### Define `is_point_feasible` and `is_point_to_point_connectable`"
   ]
  },
  {
   "cell_type": "code",
   "execution_count": 7,
   "id": "107245a2",
   "metadata": {},
   "outputs": [
    {
     "name": "stdout",
     "output_type": "stream",
     "text": [
      "Ready.\n"
     ]
    }
   ],
   "source": [
    "def is_point_feasible(env,point_sample):\n",
    "    q_bu = env.get_q(joint_idxs=env.rev_joint_idxs)\n",
    "    env.forward(q=[0.04,-0.04],joint_idxs=env.pri_joint_idxs) # open gripper\n",
    "    env.forward(q=point_sample,joint_idxs=env.rev_joint_idxs)\n",
    "    p_contacts,f_contacts,geom1s,geom2s = env.get_contact_info(must_include_prefix='panda')\n",
    "    # nv.forward(q=q_bu,joint_idxs=env.rev_joint_idxs)\n",
    "    if len(p_contacts) == 0: return True\n",
    "    else: return False\n",
    "def is_point_to_point_connectable(env,point_fr,point_to):\n",
    "    return True\n",
    "print (\"Ready.\")"
   ]
  },
  {
   "cell_type": "markdown",
   "id": "401afe86",
   "metadata": {},
   "source": [
    "### RRT Loop"
   ]
  },
  {
   "cell_type": "code",
   "execution_count": null,
   "id": "bb66d55b",
   "metadata": {
    "scrolled": true
   },
   "outputs": [],
   "source": [
    "# Init viewer (for debugging purposes)\n",
    "env.init_viewer(viewer_title='Spawn Objects',viewer_width=1200,viewer_height=800,viewer_hide_menus=True)\n",
    "env.update_viewer(azimuth=80,distance=2.5,elevation=-30,lookat=[0,0,1.5])\n",
    "env.update_viewer(VIS_TRANSPARENT=True,VIS_CONTACTPOINT=False,\n",
    "                  contactwidth=0.05,contactheight=0.05,contactrgba=np.array([1,0,0,1]))\n",
    "env.update_viewer(VIS_JOINT=True,jointlength=0.5,jointwidth=0.1,jointrgba=[0.2,0.6,0.8,0.6])\n",
    "env.reset() # reset\n",
    "# Zero-pose with gripper open\n",
    "env.forward(q=np.array([0,0,0,0,0,90,0])*np.pi/180.0,joint_idxs=env.rev_joint_idxs)\n",
    "env.forward(q=[0.04,-0.04],joint_idxs=env.pri_joint_idxs) # open gripper\n",
    "while (RRT.get_n_node() <= RRT.n_node_max) and RRT.increase_loop_cnt() and env.is_viewer_alive():\n",
    "    \n",
    "    # Randomly sample a point \n",
    "    while True:\n",
    "        if np.random.rand() <= RRT.goal_select_rate: point_sample = RRT.point_goal \n",
    "        else: point_sample = RRT.sample_point() # random sampling\n",
    "        if is_point_feasible(env,point_sample): break\n",
    "\n",
    "    # Get the nearest node ('node_nearest') to 'point_sample' from the tree\n",
    "    node_nearest = RRT.get_node_nearest(point_sample)\n",
    "    \n",
    "    # Steering towards 'point_sample' to get 'point_new'\n",
    "    point_new,cost_new = RRT.steer(node_nearest,point_sample)\n",
    "    if point_new is None: continue # if the steering point is feasible\n",
    "\n",
    "    # Rewiring\n",
    "    if is_point_feasible(env,point_new) \\\n",
    "        and is_point_to_point_connectable(\n",
    "        env,RRT.get_node_point(node_nearest),point_new):\n",
    "        \n",
    "        # Assign 'node_min' and initialize 'cost_min' with 'cost_new'\n",
    "        node_min = node_nearest.copy()\n",
    "        cost_min = cost_new\n",
    "        \n",
    "        # Select a set of nodes near 'point_new' => 'nodes_near'\n",
    "        nodes_near = RRT.get_nodes_near(point_new)\n",
    "\n",
    "        # For all 'node_near' find 'node_min'\n",
    "        for node_near in nodes_near:\n",
    "            point_near,cost_near = RRT.get_node_point_and_cost(node_near)\n",
    "            if is_point_to_point_connectable(env,point_near,point_new):\n",
    "                cost_prime = cost_near + RRT.get_dist(point_near,point_new)\n",
    "                if cost_prime < cost_min:\n",
    "                    cost_min = cost_near + RRT.get_dist(point_near,point_new)\n",
    "                    node_min = node_near\n",
    "                    \n",
    "        # Add 'node_new' and connect it with 'node_min'\n",
    "        node_new = RRT.add_node(point=point_new,cost=cost_min,node_parent=node_min)\n",
    "        \n",
    "        # New node information for rewiring\n",
    "        point_new,cost_new = RRT.get_node_point_and_cost(node_new)\n",
    "        \n",
    "        # Rewire\n",
    "        for node_near in nodes_near:\n",
    "            point_near,cost_near = RRT.get_node_point_and_cost(node_near)\n",
    "            cost_check = cost_new+RRT.get_dist(point_near,point_new)\n",
    "            if (cost_check < cost_near) and \\\n",
    "                is_point_to_point_connectable(env,point_near,point_new):\n",
    "                RRT.replace_node_parent(node=node_near,node_parent_new=node_new)\n",
    "\n",
    "    # Re-update cost of all nodes\n",
    "    # RRT.update_nodes_cost(VERBOSE=False)\n",
    "    \n",
    "    # Debug plot\n",
    "    env.forward(q=point_new,joint_idxs=env.rev_joint_idxs)\n",
    "    env.render(render_every=10)\n",
    "\n",
    "    # Terminate condition\n",
    "    dist_to_goal = RRT.get_dist_to_goal()\n",
    "    if (dist_to_goal < 1e-6) and RRT.TERMINATE_WHEN_GOAL_REACHED:\n",
    "        print (\"Goad reached. n_node:[%d] dist_to_goal:[%.4f]\"%\n",
    "               (RRT.get_n_node(),dist_to_goal))\n",
    "        break\n",
    "        \n",
    "# Close viewer\n",
    "env.close_viewer()        \n",
    "print (\"Done.\")"
   ]
  },
  {
   "cell_type": "markdown",
   "id": "545cf8d5",
   "metadata": {},
   "source": [
    "### Play RRT results"
   ]
  },
  {
   "cell_type": "code",
   "execution_count": null,
   "id": "0bcba633",
   "metadata": {
    "scrolled": true
   },
   "outputs": [],
   "source": [
    "path_to_goal,path_node_list = RRT.get_path_to_goal()\n",
    "for node_idx,node in enumerate(path_node_list):\n",
    "    print (\"[%d/%d] node:[%d] point:%s cost:[%.2f]\"%\n",
    "           (node_idx,len(path_node_list),node,RRT.get_node_point(node),\n",
    "            RRT.get_node_cost(node)))"
   ]
  },
  {
   "cell_type": "code",
   "execution_count": null,
   "id": "186d5037",
   "metadata": {
    "scrolled": true
   },
   "outputs": [],
   "source": [
    "env.init_viewer(viewer_title='Spawn Objects',viewer_width=1200,viewer_height=800,viewer_hide_menus=True)\n",
    "env.update_viewer(azimuth=80,distance=2.5,elevation=-30,lookat=[0,0,1.5])\n",
    "env.update_viewer(VIS_TRANSPARENT=True,VIS_CONTACTPOINT=False,\n",
    "                  contactwidth=0.05,contactheight=0.05,contactrgba=np.array([1,0,0,1]))\n",
    "env.update_viewer(VIS_JOINT=True,jointlength=0.5,jointwidth=0.1,jointrgba=[0.2,0.6,0.8,0.6])\n",
    "# env.reset() # reset\n",
    "\n",
    "for q in path_to_goal:\n",
    "    for _ in range(100):\n",
    "        env.forward(q=q,joint_idxs=env.rev_joint_idxs)\n",
    "        env.render(render_every=1)\n",
    "env.close_viewer() # close viewer\n",
    "print (\"Done.\")"
   ]
  },
  {
   "cell_type": "code",
   "execution_count": null,
   "id": "3a33a5ad",
   "metadata": {},
   "outputs": [],
   "source": []
  },
  {
   "cell_type": "code",
   "execution_count": null,
   "id": "fd946928",
   "metadata": {},
   "outputs": [],
   "source": []
  },
  {
   "cell_type": "code",
   "execution_count": null,
   "id": "6882a83a",
   "metadata": {},
   "outputs": [],
   "source": []
  },
  {
   "cell_type": "code",
   "execution_count": null,
   "id": "c007cd9e",
   "metadata": {},
   "outputs": [],
   "source": []
  },
  {
   "cell_type": "code",
   "execution_count": null,
   "id": "6e1f7c04",
   "metadata": {},
   "outputs": [],
   "source": []
  },
  {
   "cell_type": "code",
   "execution_count": null,
   "id": "d26c5b50",
   "metadata": {},
   "outputs": [],
   "source": []
  },
  {
   "cell_type": "code",
   "execution_count": null,
   "id": "31bd5191",
   "metadata": {},
   "outputs": [],
   "source": []
  },
  {
   "cell_type": "code",
   "execution_count": null,
   "id": "842b3855",
   "metadata": {},
   "outputs": [],
   "source": []
  },
  {
   "cell_type": "code",
   "execution_count": null,
   "id": "390e509b",
   "metadata": {},
   "outputs": [],
   "source": []
  }
 ],
 "metadata": {
  "kernelspec": {
   "display_name": "Python 3 (ipykernel)",
   "language": "python",
   "name": "python3"
  },
  "language_info": {
   "codemirror_mode": {
    "name": "ipython",
    "version": 3
   },
   "file_extension": ".py",
   "mimetype": "text/x-python",
   "name": "python",
   "nbconvert_exporter": "python",
   "pygments_lexer": "ipython3",
   "version": "3.9.16"
  }
 },
 "nbformat": 4,
 "nbformat_minor": 5
}
