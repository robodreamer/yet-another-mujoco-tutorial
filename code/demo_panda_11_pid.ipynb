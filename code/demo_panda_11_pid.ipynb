{
 "cells": [
  {
   "cell_type": "markdown",
   "id": "54c210dd",
   "metadata": {},
   "source": [
    "### PID control"
   ]
  },
  {
   "cell_type": "code",
   "execution_count": 1,
   "id": "33194228",
   "metadata": {},
   "outputs": [],
   "source": [
    "import mujoco\n",
    "import numpy as np\n",
    "import matplotlib.pyplot as plt\n",
    "from mujoco_parser import MuJoCoParserClass\n",
    "from util import rpy2r,r2rpy\n",
    "from pip import PID_ControllerClass\n",
    "from scipy.spatial.distance import cdist\n",
    "np.set_printoptions(precision=2,suppress=True,linewidth=100)\n",
    "plt.rc('xtick',labelsize=6); plt.rc('ytick',labelsize=6)\n",
    "%config InlineBackend.figure_format = 'retina'\n",
    "%matplotlib inline\n",
    "print (\"MuJoCo version:[%s]\"%(mujoco.__version__))"
   ]
  },
  {
   "cell_type": "markdown",
   "id": "bca8dd1f",
   "metadata": {},
   "source": [
    "### Parse `Panda`"
   ]
  },
  {
   "cell_type": "code",
   "execution_count": 2,
   "id": "ffe40866",
   "metadata": {
    "scrolled": true
   },
   "outputs": [],
   "source": [
    "xml_path = '../model/panda/franka_panda.xml'\n",
    "env = MuJoCoParserClass(name='Panda',rel_xml_path=xml_path,VERBOSE=True)\n",
    "print (\"[Panda] parsed.\")"
   ]
  },
  {
   "cell_type": "code",
   "execution_count": 3,
   "id": "63cf9883",
   "metadata": {},
   "outputs": [],
   "source": [
    "PID = PID_ControllerClass(\n",
    "    name = 'PID',dim = env.n_rev_joint,\n",
    "    k_p = 1000.0, k_i = 0.0, k_d = 100.0, # <= D gain is super important\n",
    "    out_min = env.ctrl_ranges[env.rev_joint_idxs,0],\n",
    "    out_max = env.ctrl_ranges[env.rev_joint_idxs,1],\n",
    "    ANTIWU  = True)\n",
    "print (\"[%s] ready.\"%(PID.name))"
   ]
  },
  {
   "cell_type": "code",
   "execution_count": 4,
   "id": "a6e551ca",
   "metadata": {},
   "outputs": [],
   "source": [
    "env.init_viewer(viewer_title='Spawn Objects',viewer_width=1200,viewer_height=800,\n",
    "                viewer_hide_menus=True)\n",
    "env.update_viewer(azimuth=80,distance=2.5,elevation=-30,lookat=[0,0,1.5])\n",
    "env.update_viewer(VIS_TRANSPARENT=True) # transparent\n",
    "env.reset()\n",
    "PID.reset()\n",
    "# Desired joint position targets for PID control\n",
    "q_des1 = np.array([0,0,0,-90,0,90,0])*np.pi/180.0\n",
    "q_des2 = np.array([0,0,-90,0,90,90,0])*np.pi/180.0\n",
    "q_des3 = np.array([0,0,90,-90,0,90,0])*np.pi/180.0\n",
    "# Buffers\n",
    "max_tick    = 3000\n",
    "sec_list    = np.zeros(shape=max_tick)\n",
    "q_list      = np.zeros(shape=(max_tick,env.n_rev_joint))\n",
    "q_des_list  = np.zeros(shape=(max_tick,PID.dim))\n",
    "torque_list = np.zeros(shape=(max_tick,env.n_rev_joint))\n",
    "while env.tick < max_tick:\n",
    "    if (env.tick/max_tick) < 1/3: q_des = q_des1\n",
    "    elif (env.tick/max_tick) < 2/3: q_des = q_des2\n",
    "    else: q_des = q_des3\n",
    "    # PID control\n",
    "    PID.update(x_trgt=q_des)\n",
    "    PID.update(t_curr=env.get_sim_time(),\n",
    "               x_curr=env.get_q(joint_idxs=env.rev_joint_idxs),VERBOSE=False)\n",
    "    torque = PID.out()\n",
    "    env.step(ctrl=torque,ctrl_idxs=env.rev_joint_idxs)\n",
    "    if (env.tick % 10) == 0:\n",
    "        env.render()\n",
    "    # Append\n",
    "    sec_list[env.tick-1]      = env.get_sim_time()\n",
    "    q_list[env.tick-1,:]      = env.get_q(joint_idxs=env.rev_joint_idxs)\n",
    "    q_des_list[env.tick-1,:]  = q_des\n",
    "    torque_list[env.tick-1,:] = torque\n",
    "env.close_viewer()    \n",
    "print (\"Done.\")"
   ]
  },
  {
   "cell_type": "code",
   "execution_count": 6,
   "id": "d35d9a01",
   "metadata": {},
   "outputs": [],
   "source": [
    "# Plot joint positions\n",
    "fig,axs = plt.subplots(nrows=2,ncols=4,sharex=True,sharey=False,figsize=(10,3))\n",
    "fig.suptitle(\"Joint positions\", fontsize=11)\n",
    "for a_idx,ax in enumerate(axs.ravel()):\n",
    "    if (a_idx >= PID.dim): continue\n",
    "    ax.plot(sec_list,q_des_list[:,a_idx],'-',color='r',label='Desired position')\n",
    "    ax.plot(sec_list,q_list[:,a_idx],'--',color='k',label='Current position')\n",
    "    qmarg = 0.1*(env.joint_ranges[a_idx,1]-env.joint_ranges[a_idx,0])\n",
    "    ax.set_ylim(bottom=env.joint_ranges[a_idx,0]-qmarg,\n",
    "                top=env.joint_ranges[a_idx,1]+qmarg)\n",
    "    ax.set_title('Joint [%d]'%(a_idx),fontsize=9)\n",
    "    if a_idx == 0: ax.legend(fontsize=7)\n",
    "plt.show()\n",
    "# Plot joint torques\n",
    "fig,axs = plt.subplots(nrows=2,ncols=4,sharex=True,sharey=False,figsize=(10,3))\n",
    "fig.suptitle(\"Joint torques\", fontsize=11)\n",
    "for a_idx,ax in enumerate(axs.ravel()):\n",
    "    if (a_idx >= PID.dim): continue\n",
    "    ax.plot(sec_list,torque_list[:,a_idx],'-',color='k',label='',lw=1)\n",
    "    tmarg = 0.1*(env.ctrl_ranges[a_idx,1]-env.ctrl_ranges[a_idx,0])\n",
    "    ax.set_ylim(bottom=env.ctrl_ranges[a_idx,0]-tmarg,\n",
    "                top=env.ctrl_ranges[a_idx,1]+tmarg)\n",
    "    ax.set_title('Joint [%d]'%(a_idx),fontsize=9)\n",
    "plt.show()"
   ]
  },
  {
   "cell_type": "code",
   "execution_count": null,
   "id": "3802e2b0",
   "metadata": {},
   "outputs": [],
   "source": []
  }
 ],
 "metadata": {
  "kernelspec": {
   "display_name": "Python 3 (ipykernel)",
   "language": "python",
   "name": "python3"
  },
  "language_info": {
   "codemirror_mode": {
    "name": "ipython",
    "version": 3
   },
   "file_extension": ".py",
   "mimetype": "text/x-python",
   "name": "python",
   "nbconvert_exporter": "python",
   "pygments_lexer": "ipython3",
   "version": "3.9.16"
  }
 },
 "nbformat": 4,
 "nbformat_minor": 5
}
